{
 "cells": [
  {
   "cell_type": "code",
   "execution_count": 193,
   "metadata": {},
   "outputs": [],
   "source": [
    "## imports\n",
    "import csv"
   ]
  },
  {
   "cell_type": "code",
   "execution_count": 194,
   "metadata": {},
   "outputs": [],
   "source": [
    "percentage = 0.2;\n",
    "initial_job_number = 0;\n",
    "final_job_number= 10;"
   ]
  },
  {
   "cell_type": "code",
   "execution_count": 195,
   "metadata": {},
   "outputs": [],
   "source": [
    "def calculateDueDate(jobs):\n",
    "    sum = 0\n",
    "    for job in jobs:\n",
    "        sum += int(job['processing_time']);\n",
    "    \n",
    "    return sum * percentage;"
   ]
  },
  {
   "cell_type": "code",
   "execution_count": 196,
   "metadata": {},
   "outputs": [],
   "source": [
    "def readJobsFromFile():    \n",
    "    jobs = []\n",
    "\n",
    "    spamReader = csv.reader(open('Jobs.csv', newline=''), delimiter=',', quotechar='|')\n",
    "    index = 1\n",
    "    for row in spamReader:\n",
    "        job = {}\n",
    "        job['initial_position'] = index\n",
    "        job['processing_time'] = row[0]\n",
    "        job['earliness_penalty'] = row[1]\n",
    "        job['tardiness_penalty'] = row[2]\n",
    "        jobs.append(job)\n",
    "        index += 1\n",
    "\n",
    "    return jobs[initial_job_number:final_job_number]"
   ]
  },
  {
   "cell_type": "code",
   "execution_count": 197,
   "metadata": {},
   "outputs": [],
   "source": [
    "#define some global variables\n",
    "jobs = readJobsFromFile()\n",
    "dueDateLimit = calculateDueDate(jobs);"
   ]
  },
  {
   "cell_type": "code",
   "execution_count": 198,
   "metadata": {},
   "outputs": [
    {
     "name": "stdout",
     "output_type": "stream",
     "text": [
      "23.200000000000003\n",
      "{'initial_position': 1, 'processing_time': '20', 'earliness_penalty': '4', 'tardiness_penalty': '5'}\n",
      "{'initial_position': 2, 'processing_time': '6', 'earliness_penalty': '1', 'tardiness_penalty': '15'}\n",
      "{'initial_position': 3, 'processing_time': '13', 'earliness_penalty': '5', 'tardiness_penalty': '13'}\n",
      "{'initial_position': 4, 'processing_time': '13', 'earliness_penalty': '2', 'tardiness_penalty': '13'}\n",
      "{'initial_position': 5, 'processing_time': '12', 'earliness_penalty': '7', 'tardiness_penalty': '6'}\n",
      "{'initial_position': 6, 'processing_time': '12', 'earliness_penalty': '9', 'tardiness_penalty': '8'}\n",
      "{'initial_position': 7, 'processing_time': '12', 'earliness_penalty': '5', 'tardiness_penalty': '15'}\n",
      "{'initial_position': 8, 'processing_time': '3', 'earliness_penalty': '6', 'tardiness_penalty': '1'}\n",
      "{'initial_position': 9, 'processing_time': '12', 'earliness_penalty': '6', 'tardiness_penalty': '8'}\n",
      "{'initial_position': 10, 'processing_time': '13', 'earliness_penalty': '10', 'tardiness_penalty': '1'}\n"
     ]
    }
   ],
   "source": [
    "print(dueDateLimited)\n",
    "for job in jobs:\n",
    "    print (job)"
   ]
  },
  {
   "cell_type": "code",
   "execution_count": 199,
   "metadata": {},
   "outputs": [
    {
     "name": "stdout",
     "output_type": "stream",
     "text": [
      "{'initial_position': 1, 'processing_time': '20', 'earliness_penalty': '4', 'tardiness_penalty': '5', 'pi_ai': 5.0, 'pi_bi': 4.0}\n",
      "{'initial_position': 2, 'processing_time': '6', 'earliness_penalty': '1', 'tardiness_penalty': '15', 'pi_ai': 6.0, 'pi_bi': 0.4}\n",
      "{'initial_position': 3, 'processing_time': '13', 'earliness_penalty': '5', 'tardiness_penalty': '13', 'pi_ai': 2.6, 'pi_bi': 1.0}\n",
      "{'initial_position': 4, 'processing_time': '13', 'earliness_penalty': '2', 'tardiness_penalty': '13', 'pi_ai': 6.5, 'pi_bi': 1.0}\n",
      "{'initial_position': 5, 'processing_time': '12', 'earliness_penalty': '7', 'tardiness_penalty': '6', 'pi_ai': 1.7142857142857142, 'pi_bi': 2.0}\n",
      "{'initial_position': 6, 'processing_time': '12', 'earliness_penalty': '9', 'tardiness_penalty': '8', 'pi_ai': 1.3333333333333333, 'pi_bi': 1.5}\n",
      "{'initial_position': 7, 'processing_time': '12', 'earliness_penalty': '5', 'tardiness_penalty': '15', 'pi_ai': 2.4, 'pi_bi': 0.8}\n",
      "{'initial_position': 8, 'processing_time': '3', 'earliness_penalty': '6', 'tardiness_penalty': '1', 'pi_ai': 0.5, 'pi_bi': 3.0}\n",
      "{'initial_position': 9, 'processing_time': '12', 'earliness_penalty': '6', 'tardiness_penalty': '8', 'pi_ai': 2.0, 'pi_bi': 1.5}\n",
      "{'initial_position': 10, 'processing_time': '13', 'earliness_penalty': '10', 'tardiness_penalty': '1', 'pi_ai': 1.3, 'pi_bi': 13.0}\n"
     ]
    }
   ],
   "source": [
    "for job in jobs:\n",
    "    job['pi_ai'] = int(job['processing_time']) / int(job['earliness_penalty']) \n",
    "    job['pi_bi'] = int(job['processing_time']) / int(job['tardiness_penalty']) \n",
    "\n",
    "for job in jobs:\n",
    "    print(job)"
   ]
  },
  {
   "cell_type": "code",
   "execution_count": 200,
   "metadata": {},
   "outputs": [
    {
     "name": "stdout",
     "output_type": "stream",
     "text": [
      "{'initial_position': 4, 'processing_time': '13', 'earliness_penalty': '2', 'tardiness_penalty': '13', 'pi_ai': 6.5, 'pi_bi': 1.0}\n",
      "{'initial_position': 2, 'processing_time': '6', 'earliness_penalty': '1', 'tardiness_penalty': '15', 'pi_ai': 6.0, 'pi_bi': 0.4}\n",
      "{'initial_position': 1, 'processing_time': '20', 'earliness_penalty': '4', 'tardiness_penalty': '5', 'pi_ai': 5.0, 'pi_bi': 4.0}\n",
      "{'initial_position': 3, 'processing_time': '13', 'earliness_penalty': '5', 'tardiness_penalty': '13', 'pi_ai': 2.6, 'pi_bi': 1.0}\n",
      "{'initial_position': 7, 'processing_time': '12', 'earliness_penalty': '5', 'tardiness_penalty': '15', 'pi_ai': 2.4, 'pi_bi': 0.8}\n",
      "{'initial_position': 9, 'processing_time': '12', 'earliness_penalty': '6', 'tardiness_penalty': '8', 'pi_ai': 2.0, 'pi_bi': 1.5}\n",
      "{'initial_position': 5, 'processing_time': '12', 'earliness_penalty': '7', 'tardiness_penalty': '6', 'pi_ai': 1.7142857142857142, 'pi_bi': 2.0}\n",
      "{'initial_position': 6, 'processing_time': '12', 'earliness_penalty': '9', 'tardiness_penalty': '8', 'pi_ai': 1.3333333333333333, 'pi_bi': 1.5}\n",
      "{'initial_position': 10, 'processing_time': '13', 'earliness_penalty': '10', 'tardiness_penalty': '1', 'pi_ai': 1.3, 'pi_bi': 13.0}\n",
      "{'initial_position': 8, 'processing_time': '3', 'earliness_penalty': '6', 'tardiness_penalty': '1', 'pi_ai': 0.5, 'pi_bi': 3.0}\n"
     ]
    }
   ],
   "source": [
    "sortedByPiAiDecreasing = sorted(jobs, key=lambda k: k['pi_ai'], reverse=True )\n",
    "sortedByPiBiIncreasing = sorted(jobs, key=lambda k: k['pi_bi'] )\n",
    "\n",
    "for job in sortedByPiAiDecreasing:\n",
    "    print(job)"
   ]
  },
  {
   "cell_type": "code",
   "execution_count": 201,
   "metadata": {},
   "outputs": [],
   "source": [
    "beforeDueDate = []\n",
    "\n",
    "sumOfProcessingTime = 0\n",
    "for job in sortedByPiAiDecreasing:\n",
    "    sumOfProcessingTime += int(job['processing_time'])\n",
    "    if sumOfProcessingTime < dueDateLimit:\n",
    "        beforeDueDate.append(job)\n",
    "        sortedByPiBiIncreasing.remove(job)\n",
    "        \n",
    "beforeDueDate = sorted(beforeDueDate, key=lambda k: k['pi_ai'] )\n",
    "\n"
   ]
  },
  {
   "cell_type": "code",
   "execution_count": 202,
   "metadata": {},
   "outputs": [
    {
     "name": "stdout",
     "output_type": "stream",
     "text": [
      "[{'initial_position': 2, 'processing_time': '6', 'earliness_penalty': '1', 'tardiness_penalty': '15', 'pi_ai': 6.0, 'pi_bi': 0.4}, {'initial_position': 4, 'processing_time': '13', 'earliness_penalty': '2', 'tardiness_penalty': '13', 'pi_ai': 6.5, 'pi_bi': 1.0}]\n"
     ]
    }
   ],
   "source": [
    "print(beforeDueDate)"
   ]
  },
  {
   "cell_type": "code",
   "execution_count": 203,
   "metadata": {},
   "outputs": [
    {
     "name": "stdout",
     "output_type": "stream",
     "text": [
      "{'initial_position': 2, 'processing_time': '6', 'earliness_penalty': '1', 'tardiness_penalty': '15', 'pi_ai': 6.0, 'pi_bi': 0.4}\n",
      "{'initial_position': 4, 'processing_time': '13', 'earliness_penalty': '2', 'tardiness_penalty': '13', 'pi_ai': 6.5, 'pi_bi': 1.0}\n",
      "{'initial_position': 7, 'processing_time': '12', 'earliness_penalty': '5', 'tardiness_penalty': '15', 'pi_ai': 2.4, 'pi_bi': 0.8}\n",
      "{'initial_position': 3, 'processing_time': '13', 'earliness_penalty': '5', 'tardiness_penalty': '13', 'pi_ai': 2.6, 'pi_bi': 1.0}\n",
      "{'initial_position': 6, 'processing_time': '12', 'earliness_penalty': '9', 'tardiness_penalty': '8', 'pi_ai': 1.3333333333333333, 'pi_bi': 1.5}\n",
      "{'initial_position': 9, 'processing_time': '12', 'earliness_penalty': '6', 'tardiness_penalty': '8', 'pi_ai': 2.0, 'pi_bi': 1.5}\n",
      "{'initial_position': 5, 'processing_time': '12', 'earliness_penalty': '7', 'tardiness_penalty': '6', 'pi_ai': 1.7142857142857142, 'pi_bi': 2.0}\n",
      "{'initial_position': 8, 'processing_time': '3', 'earliness_penalty': '6', 'tardiness_penalty': '1', 'pi_ai': 0.5, 'pi_bi': 3.0}\n",
      "{'initial_position': 1, 'processing_time': '20', 'earliness_penalty': '4', 'tardiness_penalty': '5', 'pi_ai': 5.0, 'pi_bi': 4.0}\n",
      "{'initial_position': 10, 'processing_time': '13', 'earliness_penalty': '10', 'tardiness_penalty': '1', 'pi_ai': 1.3, 'pi_bi': 13.0}\n"
     ]
    }
   ],
   "source": [
    "result = beforeDueDate + sortedByPiBiIncreasing\n",
    "\n",
    "for job in result:\n",
    "    print (job)"
   ]
  },
  {
   "cell_type": "code",
   "execution_count": 204,
   "metadata": {},
   "outputs": [],
   "source": [
    "completionTime = 0 \n",
    "\n",
    "resultAfterFO = [] \n",
    "\n",
    "for job in result:\n",
    "    if(completionTime < dueDateLimit):\n",
    "        job['penalty_time'] = (dueDateLimit - completionTime) * int(job['earliness_penalty'])\n",
    "        resultAfterFO.append(job)\n",
    "    elif(completion_time == due_date_limited):\n",
    "        job['penalty_time'] = (dueDateLimit - completionTime)\n",
    "    elif(completion_time > due_date_limited):\n",
    "        job['penalty_time'] = (completion_time - dueDateLimit) * int(job['tardiness_penalty'])\n",
    "        resultAfterFO.append(job)\n",
    "        "
   ]
  },
  {
   "cell_type": "code",
   "execution_count": 205,
   "metadata": {},
   "outputs": [
    {
     "name": "stdout",
     "output_type": "stream",
     "text": [
      "{'initial_position': 2, 'processing_time': '6', 'earliness_penalty': '1', 'tardiness_penalty': '15', 'pi_ai': 6.0, 'pi_bi': 0.4, 'penalty_time': 23.200000000000003}\n",
      "{'initial_position': 4, 'processing_time': '13', 'earliness_penalty': '2', 'tardiness_penalty': '13', 'pi_ai': 6.5, 'pi_bi': 1.0, 'penalty_time': 46.400000000000006}\n",
      "{'initial_position': 7, 'processing_time': '12', 'earliness_penalty': '5', 'tardiness_penalty': '15', 'pi_ai': 2.4, 'pi_bi': 0.8, 'penalty_time': 116.00000000000001}\n",
      "{'initial_position': 3, 'processing_time': '13', 'earliness_penalty': '5', 'tardiness_penalty': '13', 'pi_ai': 2.6, 'pi_bi': 1.0, 'penalty_time': 116.00000000000001}\n",
      "{'initial_position': 6, 'processing_time': '12', 'earliness_penalty': '9', 'tardiness_penalty': '8', 'pi_ai': 1.3333333333333333, 'pi_bi': 1.5, 'penalty_time': 208.8}\n",
      "{'initial_position': 9, 'processing_time': '12', 'earliness_penalty': '6', 'tardiness_penalty': '8', 'pi_ai': 2.0, 'pi_bi': 1.5, 'penalty_time': 139.20000000000002}\n",
      "{'initial_position': 5, 'processing_time': '12', 'earliness_penalty': '7', 'tardiness_penalty': '6', 'pi_ai': 1.7142857142857142, 'pi_bi': 2.0, 'penalty_time': 162.40000000000003}\n",
      "{'initial_position': 8, 'processing_time': '3', 'earliness_penalty': '6', 'tardiness_penalty': '1', 'pi_ai': 0.5, 'pi_bi': 3.0, 'penalty_time': 139.20000000000002}\n",
      "{'initial_position': 1, 'processing_time': '20', 'earliness_penalty': '4', 'tardiness_penalty': '5', 'pi_ai': 5.0, 'pi_bi': 4.0, 'penalty_time': 92.80000000000001}\n",
      "{'initial_position': 10, 'processing_time': '13', 'earliness_penalty': '10', 'tardiness_penalty': '1', 'pi_ai': 1.3, 'pi_bi': 13.0, 'penalty_time': 232.00000000000003}\n"
     ]
    }
   ],
   "source": [
    "for job in resultAfterFO:\n",
    "    print (job)"
   ]
  },
  {
   "cell_type": "code",
   "execution_count": 207,
   "metadata": {},
   "outputs": [],
   "source": [
    "sumOfPenalties = 0 \n",
    "sumOfProcessingTime = 0\n",
    "\n",
    "for job in resultAfterFO:\n",
    "    sumOfPenalties += job['penalty_time']\n",
    "    sumOfProcessingTime += int(job['processing_time'])"
   ]
  },
  {
   "cell_type": "code",
   "execution_count": 208,
   "metadata": {},
   "outputs": [
    {
     "name": "stdout",
     "output_type": "stream",
     "text": [
      "sum of Penalties:  1276.0\n",
      "sum of processing time:  116\n",
      "final result:  1392.0\n"
     ]
    }
   ],
   "source": [
    "print(\"sum of Penalties: \", sumOfPenalties)\n",
    "print(\"sum of processing time: \", sumOfProcessingTime)\n",
    "print(\"final result: \", sumOfPenalties + sumOfProcessingTime)"
   ]
  },
  {
   "cell_type": "code",
   "execution_count": null,
   "metadata": {},
   "outputs": [],
   "source": []
  }
 ],
 "metadata": {
  "kernelspec": {
   "display_name": "Python 3",
   "language": "python",
   "name": "python3"
  },
  "language_info": {
   "codemirror_mode": {
    "name": "ipython",
    "version": 3
   },
   "file_extension": ".py",
   "mimetype": "text/x-python",
   "name": "python",
   "nbconvert_exporter": "python",
   "pygments_lexer": "ipython3",
   "version": "3.6.5"
  }
 },
 "nbformat": 4,
 "nbformat_minor": 2
}
