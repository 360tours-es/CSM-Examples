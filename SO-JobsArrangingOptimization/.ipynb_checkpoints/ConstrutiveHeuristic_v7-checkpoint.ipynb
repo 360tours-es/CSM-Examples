{
 "cells": [
  {
   "cell_type": "code",
   "execution_count": 1,
   "metadata": {},
   "outputs": [],
   "source": [
    "## imports\n",
    "import csv"
   ]
  },
  {
   "cell_type": "code",
   "execution_count": 2,
   "metadata": {},
   "outputs": [],
   "source": [
    "def calculatePiAiBi(jobs):\n",
    "    for job in jobs:\n",
    "        job['pi_ai'] = int(job['processing_time']) / int(job['earliness_penalty']) \n",
    "        job['pi_bi'] = int(job['processing_time']) / int(job['tardiness_penalty']) \n",
    "    return jobs"
   ]
  },
  {
   "cell_type": "code",
   "execution_count": 3,
   "metadata": {},
   "outputs": [],
   "source": [
    "def calculateDueDate(jobs, percentage):\n",
    "    sum = 0\n",
    "    for job in jobs:\n",
    "        sum += int(job['processing_time']);\n",
    "    \n",
    "    return sum * percentage;"
   ]
  },
  {
   "cell_type": "code",
   "execution_count": 4,
   "metadata": {},
   "outputs": [],
   "source": [
    "def readJobsFromFile():    \n",
    "    jobs = []\n",
    "\n",
    "    spamReader = csv.reader(open('jobs.csv', newline=''), delimiter=',', quotechar='|')\n",
    "    index = 1\n",
    "    for row in spamReader:\n",
    "        job = {}\n",
    "        job['initial_position'] = index\n",
    "        job['processing_time'] = row[0]\n",
    "        job['earliness_penalty'] = row[1]\n",
    "        job['tardiness_penalty'] = row[2]\n",
    "        jobs.append(job)\n",
    "        index += 1\n",
    "\n",
    "    return jobs"
   ]
  },
  {
   "cell_type": "code",
   "execution_count": 5,
   "metadata": {},
   "outputs": [],
   "source": [
    "def calculateJobsBeforeDueDate(sortedByPiAiDecreasing,sortedByPiBiIncreasing, dueDateLimit):\n",
    "    beforeDueDate = []\n",
    "\n",
    "    sumOfProcessingTime = 0\n",
    "    for job in sortedByPiAiDecreasing:\n",
    "        sumOfProcessingTime += int(job['processing_time'])\n",
    "        if sumOfProcessingTime < dueDateLimit:\n",
    "            beforeDueDate.append(job)\n",
    "            sortedByPiBiIncreasing.remove(job)\n",
    "\n",
    "    beforeDueDate = sorted(beforeDueDate, key=lambda k: k['pi_ai'],reverse=True )\n",
    "\n",
    "    return beforeDueDate;"
   ]
  },
  {
   "cell_type": "code",
   "execution_count": 6,
   "metadata": {},
   "outputs": [],
   "source": [
    "def merge(beforeDueDate, sortedByPiBiIncreasing):\n",
    "    result = beforeDueDate + sortedByPiBiIncreasing\n",
    "    return result"
   ]
  },
  {
   "cell_type": "code",
   "execution_count": 7,
   "metadata": {},
   "outputs": [],
   "source": [
    "def getSumOfPenalties(resultsAfterFO):\n",
    "    sumOfPenalties = 0 \n",
    "\n",
    "    for job in resultsAfterFO:\n",
    "        sumOfPenalties += int(job['penalty_time'])\n",
    "        \n",
    "    return sumOfPenalties;"
   ]
  },
  {
   "cell_type": "code",
   "execution_count": 8,
   "metadata": {},
   "outputs": [],
   "source": [
    "def getProcessingTime(resultsAfterFO):\n",
    "    processingTime = 0 \n",
    "\n",
    "    for job in resultsAfterFO:\n",
    "        processingTime += int(job['processing_time'])\n",
    "        \n",
    "    return processingTime;"
   ]
  },
  {
   "cell_type": "code",
   "execution_count": 10,
   "metadata": {},
   "outputs": [],
   "source": [
    "# passo 02 - Quebrar o vetor em 2, Antes do due date e depois do due date\n",
    "\n",
    "def getBeforeDueDate(listToSplit, dueDate):\n",
    "    beforeDueDate = []\n",
    "    completion_time = 0\n",
    "    for job in listToSplit: \n",
    "        completion_time = completion_time + int(job['processing_time'])\n",
    "        if( completion_time <= dueDate):\n",
    "            beforeDueDate.append(job)\n",
    "    return beforeDueDate\n",
    "            \n",
    "def getAfterDueDate(listToSplit, dueDate):\n",
    "    afterDueDate = []\n",
    "    completion_time = 0\n",
    "    for job in listToSplit: \n",
    "        completion_time = completion_time + int(job['processing_time'])\n",
    "        if( completion_time > dueDate):\n",
    "            afterDueDate.append(job)\n",
    "    return afterDueDate\n",
    "        "
   ]
  },
  {
   "cell_type": "code",
   "execution_count": 11,
   "metadata": {},
   "outputs": [],
   "source": [
    "def objectiveFunction(result, dueDateLimit):\n",
    "    completion_Time = int(dueDateLimit - getProcessingTime(getBeforeDueDate(result, int(dueDateLimit)))) \n",
    "\n",
    "    resultAfterFO = [] \n",
    "    for job in result:\n",
    "        completion_Time= completion_Time + int(job['processing_time'])\n",
    "        if(completion_Time < dueDateLimit):\n",
    "            job['penalty_time'] = (int(dueDateLimit) - completion_Time) * int(job['earliness_penalty'])\n",
    "        elif(completion_Time == dueDateLimit):\n",
    "            job['penalty_time'] = (int(dueDateLimit) -completion_Time)\n",
    "        elif(completion_Time > dueDateLimit):\n",
    "            job['penalty_time'] = (completion_Time - int(dueDateLimit)) * int(job['tardiness_penalty'])\n",
    "        resultAfterFO.append(job)\n",
    "    \n",
    "    return resultAfterFO"
   ]
  },
  {
   "cell_type": "code",
   "execution_count": 12,
   "metadata": {},
   "outputs": [],
   "source": [
    "def constructiveHeuristic(jobs, percentage):\n",
    "    # passo 02 - calcular o dueDate\n",
    "    dueDateLimit = calculateDueDate(jobs,percentage);\n",
    "    #print(\"due date limit: \", dueDateLimit)\n",
    "    # passo 03 - calcular o PiAi e o PiBi\n",
    "    jobs = calculatePiAiBi(jobs)\n",
    "    # passo 04 - Ordenar\n",
    "    sortedByPiAiDecreasing = sorted(jobs, key=lambda k: k['pi_ai'], reverse=True )\n",
    "    sortedByPiBiIncreasing = sorted(jobs, key=lambda k: k['pi_bi'] )\n",
    "    # passo 05 - calcular o beforeDueDate\n",
    "    beforeDueDate  = calculateJobsBeforeDueDate(sortedByPiAiDecreasing,sortedByPiBiIncreasing, dueDateLimit)\n",
    "    # passo 06 - Merge\n",
    "    result = merge(beforeDueDate, sortedByPiBiIncreasing)\n",
    "    # passo 07 - Calcular a função objetivo\n",
    "    resultsAfterFO = objectiveFunction(result, dueDateLimit)\n",
    "    # passo 08 = mostrar resultados\n",
    "    sumOfPenalties = getSumOfPenalties(resultsAfterFO)\n",
    "    sumOfProcessingTime = getProcessingTime(resultsAfterFO)\n",
    "    \n",
    "    #print(sumOfPenalties)\n",
    "    print(\"sum of Penalties: \", sumOfPenalties)\n",
    "    print(\"sum of processing time: \", sumOfProcessingTime)\n",
    "    print(\"final result: \", sumOfPenalties + sumOfProcessingTime)\n",
    "    \n",
    "    return resultsAfterFO\n",
    "    "
   ]
  },
  {
   "cell_type": "code",
   "execution_count": 14,
   "metadata": {},
   "outputs": [
    {
     "name": "stdout",
     "output_type": "stream",
     "text": [
      "----------------- k = 1 --------------------------\n",
      "sum of Penalties:  2152\n",
      "sum of processing time:  116\n",
      "final result:  2268\n",
      "--------------------------------------------------\n",
      "\n",
      "----------------- k = 2 --------------------------\n",
      "sum of Penalties:  1787\n",
      "sum of processing time:  129\n",
      "final result:  1916\n",
      "--------------------------------------------------\n",
      "\n",
      "----------------- k = 3 --------------------------\n",
      "sum of Penalties:  1731\n",
      "sum of processing time:  125\n",
      "final result:  1856\n",
      "--------------------------------------------------\n",
      "\n",
      "----------------- k = 4 --------------------------\n",
      "sum of Penalties:  2411\n",
      "sum of processing time:  102\n",
      "final result:  2513\n",
      "--------------------------------------------------\n",
      "\n",
      "----------------- k = 5 --------------------------\n",
      "sum of Penalties:  1525\n",
      "sum of processing time:  94\n",
      "final result:  1619\n",
      "--------------------------------------------------\n",
      "\n",
      "----------------- k = 6 --------------------------\n",
      "sum of Penalties:  1640\n",
      "sum of processing time:  88\n",
      "final result:  1728\n",
      "--------------------------------------------------\n",
      "\n",
      "----------------- k = 7 --------------------------\n",
      "sum of Penalties:  2674\n",
      "sum of processing time:  103\n",
      "final result:  2777\n",
      "--------------------------------------------------\n",
      "\n",
      "----------------- k = 8 --------------------------\n",
      "sum of Penalties:  1828\n",
      "sum of processing time:  79\n",
      "final result:  1907\n",
      "--------------------------------------------------\n",
      "\n",
      "----------------- k = 9 --------------------------\n",
      "sum of Penalties:  2001\n",
      "sum of processing time:  92\n",
      "final result:  2093\n",
      "--------------------------------------------------\n",
      "\n",
      "----------------- k = 10 --------------------------\n",
      "sum of Penalties:  2037\n",
      "sum of processing time:  127\n",
      "final result:  2164\n",
      "--------------------------------------------------\n",
      "\n"
     ]
    }
   ],
   "source": [
    "jobs = readJobsFromFile()\n",
    "k = 1\n",
    "for i in range(0,100,10):\n",
    "    print(\"----------------- k =\", k, \"--------------------------\" )\n",
    "    constructiveHeuristic(jobs[i:i+10], 0.2)\n",
    "    k +=1\n",
    "    print(\"--------------------------------------------------\\n\")\n",
    "    \n",
    "    "
   ]
  },
  {
   "cell_type": "code",
   "execution_count": 15,
   "metadata": {},
   "outputs": [
    {
     "name": "stdout",
     "output_type": "stream",
     "text": [
      "sum of Penalties:  2152\n",
      "sum of processing time:  116\n",
      "final result:  2268\n"
     ]
    }
   ],
   "source": [
    "# passo 01 - Pegar o vetor resultante da heuristica \n",
    "\n",
    "listaAfterFO = constructiveHeuristic(jobs[0:10], 0.2)"
   ]
  },
  {
   "cell_type": "code",
   "execution_count": 16,
   "metadata": {},
   "outputs": [],
   "source": [
    "def getEvaluatedVector(beforeDueDate, afterDueDate, job, dueDate):\n",
    "    beforeDueDate.append(job)\n",
    "    afterDueDate.remove(job)\n",
    "    beforeDueDate = sorted(beforeDueDate, key=lambda k: k['pi_ai'])\n",
    "    merged = beforeDueDate + afterDueDate\n",
    "    toReturn = objectiveFunction(merged, dueDate)\n",
    "    return toReturn\n",
    "    "
   ]
  },
  {
   "cell_type": "code",
   "execution_count": 105,
   "metadata": {},
   "outputs": [],
   "source": [
    "#passo 03 - Pegar o ultimo elemento do afterduedate e colocar no before due date\n",
    "\n",
    "\n",
    "def heuristicaMelhoria(beforeDueDate, afterDueDate, dueDate):\n",
    "    \n",
    "    afterHeuristicVector = []\n",
    "    \n",
    "    originalVector = beforeDueDate + afterDueDate\n",
    "    \n",
    "    originalVectorEvaluated = objectiveFunction(originalVector, dueDate)\n",
    "    \n",
    "        \n",
    "    penaltyOfBestVector = getSumOfPenalties(originalVectorEvaluated)\n",
    "    \n",
    "    print(\"penalty of original: \", penaltyOfBestVector)\n",
    "\n",
    "    toReturn = []\n",
    "          \n",
    "    \n",
    "    toReturnEvaluated = objectiveFunction(originalVectorEvaluated, dueDate)\n",
    "    print(\"\\n\\n\\npenalty of to returnevaluated: \", getSumOfPenalties(toReturnEvaluated))\n",
    "    penalties = getSumOfPenalties(toReturnEvaluated)\n",
    "    print(\"soma das penalidades toreturn: \", penalties)\n",
    "    penalties = 2800\n",
    "    \n",
    "    sumOfPenalties = {}\n",
    "    \n",
    "    for job in afterDueDate:\n",
    "        ev = getEvaluatedVector(beforeDueDate, afterDueDate, job, dueDate)\n",
    "        print(\"\\n\\nprintando o EV\\n\\n\")\n",
    "        for g in ev:\n",
    "            print(g['penalty_time'])\n",
    "        print(\"sumofpenalties ev: \", getSumOfPenalties(ev))\n",
    "        sumOfPenalties[getSumOfPenalties(ev)] = ev.copy()\n",
    "        print(\"getrecent added sum: \", sumOfPenalties[getSumOfPenalties(ev.copy())])\n",
    "        \n",
    "        \n",
    "    minimo = min(sumOfPenalties)\n",
    "    print(\"sum of penalties minimo: \", getSumOfPenalties(sumOfPenalties[minimo]))\n",
    "    \n",
    "    \n",
    "        \n",
    "    \n"
   ]
  },
  {
   "cell_type": "code",
   "execution_count": 106,
   "metadata": {},
   "outputs": [
    {
     "name": "stdout",
     "output_type": "stream",
     "text": [
      "penalty of original:  2152\n",
      "\n",
      "\n",
      "\n",
      "penalty of to returnevaluated:  2152\n",
      "soma das penalidades toreturn:  2152\n",
      "\n",
      "\n",
      "printando o EV\n",
      "\n",
      "\n",
      "30\n",
      "0\n",
      "169\n",
      "338\n",
      "304\n",
      "400\n",
      "372\n",
      "65\n",
      "425\n",
      "98\n",
      "sumofpenalties ev:  2201\n",
      "getrecent added sum:  [{'initial_position': 7, 'processing_time': '12', 'earliness_penalty': '5', 'tardiness_penalty': '15', 'pi_ai': 2.4, 'pi_bi': 0.8, 'penalty_time': 30}, {'initial_position': 2, 'processing_time': '6', 'earliness_penalty': '1', 'tardiness_penalty': '15', 'pi_ai': 6.0, 'pi_bi': 0.4, 'penalty_time': 0}, {'initial_position': 4, 'processing_time': '13', 'earliness_penalty': '2', 'tardiness_penalty': '13', 'pi_ai': 6.5, 'pi_bi': 1.0, 'penalty_time': 169}, {'initial_position': 3, 'processing_time': '13', 'earliness_penalty': '5', 'tardiness_penalty': '13', 'pi_ai': 2.6, 'pi_bi': 1.0, 'penalty_time': 338}, {'initial_position': 6, 'processing_time': '12', 'earliness_penalty': '9', 'tardiness_penalty': '8', 'pi_ai': 1.3333333333333333, 'pi_bi': 1.5, 'penalty_time': 304}, {'initial_position': 9, 'processing_time': '12', 'earliness_penalty': '6', 'tardiness_penalty': '8', 'pi_ai': 2.0, 'pi_bi': 1.5, 'penalty_time': 400}, {'initial_position': 5, 'processing_time': '12', 'earliness_penalty': '7', 'tardiness_penalty': '6', 'pi_ai': 1.7142857142857142, 'pi_bi': 2.0, 'penalty_time': 372}, {'initial_position': 8, 'processing_time': '3', 'earliness_penalty': '6', 'tardiness_penalty': '1', 'pi_ai': 0.5, 'pi_bi': 3.0, 'penalty_time': 65}, {'initial_position': 1, 'processing_time': '20', 'earliness_penalty': '4', 'tardiness_penalty': '5', 'pi_ai': 5.0, 'pi_bi': 4.0, 'penalty_time': 425}, {'initial_position': 10, 'processing_time': '13', 'earliness_penalty': '10', 'tardiness_penalty': '1', 'pi_ai': 1.3, 'pi_bi': 13.0, 'penalty_time': 98}]\n",
      "\n",
      "\n",
      "printando o EV\n",
      "\n",
      "\n",
      "0\n",
      "180\n",
      "270\n",
      "403\n",
      "572\n",
      "448\n",
      "408\n",
      "71\n",
      "455\n",
      "104\n",
      "sumofpenalties ev:  2911\n",
      "getrecent added sum:  [{'initial_position': 6, 'processing_time': '12', 'earliness_penalty': '9', 'tardiness_penalty': '8', 'pi_ai': 1.3333333333333333, 'pi_bi': 1.5, 'penalty_time': 0}, {'initial_position': 7, 'processing_time': '12', 'earliness_penalty': '5', 'tardiness_penalty': '15', 'pi_ai': 2.4, 'pi_bi': 0.8, 'penalty_time': 180}, {'initial_position': 2, 'processing_time': '6', 'earliness_penalty': '1', 'tardiness_penalty': '15', 'pi_ai': 6.0, 'pi_bi': 0.4, 'penalty_time': 270}, {'initial_position': 4, 'processing_time': '13', 'earliness_penalty': '2', 'tardiness_penalty': '13', 'pi_ai': 6.5, 'pi_bi': 1.0, 'penalty_time': 403}, {'initial_position': 3, 'processing_time': '13', 'earliness_penalty': '5', 'tardiness_penalty': '13', 'pi_ai': 2.6, 'pi_bi': 1.0, 'penalty_time': 572}, {'initial_position': 9, 'processing_time': '12', 'earliness_penalty': '6', 'tardiness_penalty': '8', 'pi_ai': 2.0, 'pi_bi': 1.5, 'penalty_time': 448}, {'initial_position': 5, 'processing_time': '12', 'earliness_penalty': '7', 'tardiness_penalty': '6', 'pi_ai': 1.7142857142857142, 'pi_bi': 2.0, 'penalty_time': 408}, {'initial_position': 8, 'processing_time': '3', 'earliness_penalty': '6', 'tardiness_penalty': '1', 'pi_ai': 0.5, 'pi_bi': 3.0, 'penalty_time': 71}, {'initial_position': 1, 'processing_time': '20', 'earliness_penalty': '4', 'tardiness_penalty': '5', 'pi_ai': 5.0, 'pi_bi': 4.0, 'penalty_time': 455}, {'initial_position': 10, 'processing_time': '13', 'earliness_penalty': '10', 'tardiness_penalty': '1', 'pi_ai': 1.3, 'pi_bi': 13.0, 'penalty_time': 104}]\n",
      "\n",
      "\n",
      "printando o EV\n",
      "\n",
      "\n",
      "0\n",
      "72\n",
      "360\n",
      "450\n",
      "559\n",
      "728\n",
      "544\n",
      "71\n",
      "455\n",
      "104\n",
      "sumofpenalties ev:  3343\n",
      "getrecent added sum:  [{'initial_position': 6, 'processing_time': '12', 'earliness_penalty': '9', 'tardiness_penalty': '8', 'pi_ai': 1.3333333333333333, 'pi_bi': 1.5, 'penalty_time': 0}, {'initial_position': 5, 'processing_time': '12', 'earliness_penalty': '7', 'tardiness_penalty': '6', 'pi_ai': 1.7142857142857142, 'pi_bi': 2.0, 'penalty_time': 72}, {'initial_position': 7, 'processing_time': '12', 'earliness_penalty': '5', 'tardiness_penalty': '15', 'pi_ai': 2.4, 'pi_bi': 0.8, 'penalty_time': 360}, {'initial_position': 2, 'processing_time': '6', 'earliness_penalty': '1', 'tardiness_penalty': '15', 'pi_ai': 6.0, 'pi_bi': 0.4, 'penalty_time': 450}, {'initial_position': 4, 'processing_time': '13', 'earliness_penalty': '2', 'tardiness_penalty': '13', 'pi_ai': 6.5, 'pi_bi': 1.0, 'penalty_time': 559}, {'initial_position': 3, 'processing_time': '13', 'earliness_penalty': '5', 'tardiness_penalty': '13', 'pi_ai': 2.6, 'pi_bi': 1.0, 'penalty_time': 728}, {'initial_position': 9, 'processing_time': '12', 'earliness_penalty': '6', 'tardiness_penalty': '8', 'pi_ai': 2.0, 'pi_bi': 1.5, 'penalty_time': 544}, {'initial_position': 8, 'processing_time': '3', 'earliness_penalty': '6', 'tardiness_penalty': '1', 'pi_ai': 0.5, 'pi_bi': 3.0, 'penalty_time': 71}, {'initial_position': 1, 'processing_time': '20', 'earliness_penalty': '4', 'tardiness_penalty': '5', 'pi_ai': 5.0, 'pi_bi': 4.0, 'penalty_time': 455}, {'initial_position': 10, 'processing_time': '13', 'earliness_penalty': '10', 'tardiness_penalty': '1', 'pi_ai': 1.3, 'pi_bi': 13.0, 'penalty_time': 104}]\n",
      "\n",
      "\n",
      "printando o EV\n",
      "\n",
      "\n",
      "0\n",
      "72\n",
      "360\n",
      "220\n",
      "750\n",
      "819\n",
      "988\n",
      "704\n",
      "91\n",
      "104\n",
      "sumofpenalties ev:  4108\n",
      "getrecent added sum:  [{'initial_position': 6, 'processing_time': '12', 'earliness_penalty': '9', 'tardiness_penalty': '8', 'pi_ai': 1.3333333333333333, 'pi_bi': 1.5, 'penalty_time': 0}, {'initial_position': 5, 'processing_time': '12', 'earliness_penalty': '7', 'tardiness_penalty': '6', 'pi_ai': 1.7142857142857142, 'pi_bi': 2.0, 'penalty_time': 72}, {'initial_position': 7, 'processing_time': '12', 'earliness_penalty': '5', 'tardiness_penalty': '15', 'pi_ai': 2.4, 'pi_bi': 0.8, 'penalty_time': 360}, {'initial_position': 1, 'processing_time': '20', 'earliness_penalty': '4', 'tardiness_penalty': '5', 'pi_ai': 5.0, 'pi_bi': 4.0, 'penalty_time': 220}, {'initial_position': 2, 'processing_time': '6', 'earliness_penalty': '1', 'tardiness_penalty': '15', 'pi_ai': 6.0, 'pi_bi': 0.4, 'penalty_time': 750}, {'initial_position': 4, 'processing_time': '13', 'earliness_penalty': '2', 'tardiness_penalty': '13', 'pi_ai': 6.5, 'pi_bi': 1.0, 'penalty_time': 819}, {'initial_position': 3, 'processing_time': '13', 'earliness_penalty': '5', 'tardiness_penalty': '13', 'pi_ai': 2.6, 'pi_bi': 1.0, 'penalty_time': 988}, {'initial_position': 9, 'processing_time': '12', 'earliness_penalty': '6', 'tardiness_penalty': '8', 'pi_ai': 2.0, 'pi_bi': 1.5, 'penalty_time': 704}, {'initial_position': 8, 'processing_time': '3', 'earliness_penalty': '6', 'tardiness_penalty': '1', 'pi_ai': 0.5, 'pi_bi': 3.0, 'penalty_time': 91}, {'initial_position': 10, 'processing_time': '13', 'earliness_penalty': '10', 'tardiness_penalty': '1', 'pi_ai': 1.3, 'pi_bi': 13.0, 'penalty_time': 104}]\n",
      "sum of penalties minimo:  4108\n"
     ]
    }
   ],
   "source": [
    "dueDate = int(calculateDueDate(listaAfterFO,0.2))\n",
    "bf = getBeforeDueDate(listaAfterFO, dueDate)\n",
    "af = getAfterDueDate(listaAfterFO, dueDate)\n",
    "\n",
    "vetor = heuristicaMelhoria( bf, af, dueDate) \n",
    "\n"
   ]
  }
 ],
 "metadata": {
  "kernelspec": {
   "display_name": "Python 3",
   "language": "python",
   "name": "python3"
  },
  "language_info": {
   "codemirror_mode": {
    "name": "ipython",
    "version": 3
   },
   "file_extension": ".py",
   "mimetype": "text/x-python",
   "name": "python",
   "nbconvert_exporter": "python",
   "pygments_lexer": "ipython3",
   "version": "3.6.5"
  },
  "varInspector": {
   "cols": {
    "lenName": 16,
    "lenType": 16,
    "lenVar": 40
   },
   "kernels_config": {
    "python": {
     "delete_cmd_postfix": "",
     "delete_cmd_prefix": "del ",
     "library": "var_list.py",
     "varRefreshCmd": "print(var_dic_list())"
    },
    "r": {
     "delete_cmd_postfix": ") ",
     "delete_cmd_prefix": "rm(",
     "library": "var_list.r",
     "varRefreshCmd": "cat(var_dic_list()) "
    }
   },
   "position": {
    "height": "592px",
    "left": "807px",
    "right": "20px",
    "top": "23px",
    "width": "479px"
   },
   "types_to_exclude": [
    "module",
    "function",
    "builtin_function_or_method",
    "instance",
    "_Feature"
   ],
   "window_display": false
  }
 },
 "nbformat": 4,
 "nbformat_minor": 2
}
