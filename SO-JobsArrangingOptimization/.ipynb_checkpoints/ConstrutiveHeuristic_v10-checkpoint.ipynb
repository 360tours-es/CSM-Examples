{
 "cells": [
  {
   "cell_type": "code",
   "execution_count": 29,
   "metadata": {},
   "outputs": [],
   "source": [
    "## imports\n",
    "import csv"
   ]
  },
  {
   "cell_type": "code",
   "execution_count": 30,
   "metadata": {},
   "outputs": [],
   "source": [
    "def calculatePiAiBi(jobs):\n",
    "    for job in jobs:\n",
    "        job['pi_ai'] = int(job['processing_time']) / int(job['earliness_penalty']) \n",
    "        job['pi_bi'] = int(job['processing_time']) / int(job['tardiness_penalty']) \n",
    "    return jobs"
   ]
  },
  {
   "cell_type": "code",
   "execution_count": 31,
   "metadata": {},
   "outputs": [],
   "source": [
    "def calculateDueDate(jobs, percentage):\n",
    "    sum = 0\n",
    "    for job in jobs:\n",
    "        sum += int(job['processing_time']);\n",
    "    \n",
    "    return sum * percentage;"
   ]
  },
  {
   "cell_type": "code",
   "execution_count": 32,
   "metadata": {},
   "outputs": [],
   "source": [
    "def readJobsFromFile():    \n",
    "    jobs = []\n",
    "\n",
    "    spamReader = csv.reader(open('jobs.csv', newline=''), delimiter=',', quotechar='|')\n",
    "    index = 1\n",
    "    for row in spamReader:\n",
    "        job = {}\n",
    "        job['initial_position'] = index\n",
    "        job['processing_time'] = row[0]\n",
    "        job['earliness_penalty'] = row[1]\n",
    "        job['tardiness_penalty'] = row[2]\n",
    "        jobs.append(job)\n",
    "        index += 1\n",
    "\n",
    "    return jobs"
   ]
  },
  {
   "cell_type": "code",
   "execution_count": 33,
   "metadata": {},
   "outputs": [],
   "source": [
    "def calculateJobsBeforeDueDate(sortedByPiAiDecreasing,sortedByPiBiIncreasing, dueDateLimit):\n",
    "    beforeDueDate = []\n",
    "\n",
    "    sumOfProcessingTime = 0\n",
    "    for job in sortedByPiAiDecreasing:\n",
    "        sumOfProcessingTime += int(job['processing_time'])\n",
    "        if sumOfProcessingTime < dueDateLimit:\n",
    "            beforeDueDate.append(job)\n",
    "            sortedByPiBiIncreasing.remove(job)\n",
    "\n",
    "    beforeDueDate = sorted(beforeDueDate, key=lambda k: k['pi_ai'],reverse=True )\n",
    "\n",
    "    return beforeDueDate;"
   ]
  },
  {
   "cell_type": "code",
   "execution_count": 34,
   "metadata": {},
   "outputs": [],
   "source": [
    "def merge(beforeDueDate, sortedByPiBiIncreasing):\n",
    "    result = beforeDueDate + sortedByPiBiIncreasing\n",
    "    return result"
   ]
  },
  {
   "cell_type": "code",
   "execution_count": 35,
   "metadata": {},
   "outputs": [],
   "source": [
    "def getSumOfPenalties(resultsAfterFO):\n",
    "    sumOfPenalties = 0 \n",
    "\n",
    "    for job in resultsAfterFO:\n",
    "        sumOfPenalties += int(job['penalty_time'])\n",
    "        \n",
    "    return sumOfPenalties;"
   ]
  },
  {
   "cell_type": "code",
   "execution_count": 36,
   "metadata": {},
   "outputs": [],
   "source": [
    "def getProcessingTime(resultsAfterFO):\n",
    "    processingTime = 0 \n",
    "\n",
    "    for job in resultsAfterFO:\n",
    "        processingTime += int(job['processing_time'])\n",
    "        \n",
    "    return processingTime;"
   ]
  },
  {
   "cell_type": "code",
   "execution_count": 37,
   "metadata": {},
   "outputs": [],
   "source": [
    "def objectiveFunction(result, dueDateLimit):\n",
    "    completion_Time = int(dueDateLimit - getProcessingTime(getBeforeDueDate(result, int(dueDateLimit)))) \n",
    "\n",
    "    resultAfterFO = [] \n",
    "    for job in result:\n",
    "        completion_Time= completion_Time + int(job['processing_time'])\n",
    "        if(completion_Time < dueDateLimit):\n",
    "            job['penalty_time'] = (int(dueDateLimit) - completion_Time) * int(job['earliness_penalty'])\n",
    "        elif(completion_Time == dueDateLimit):\n",
    "            job['penalty_time'] = (int(dueDateLimit) -completion_Time)\n",
    "        elif(completion_Time > dueDateLimit):\n",
    "            job['penalty_time'] = (completion_Time - int(dueDateLimit)) * int(job['tardiness_penalty'])\n",
    "        resultAfterFO.append(job)\n",
    "    \n",
    "    return resultAfterFO"
   ]
  },
  {
   "cell_type": "code",
   "execution_count": 74,
   "metadata": {},
   "outputs": [],
   "source": [
    "def constructiveHeuristic(jobs, percentage):\n",
    "    # passo 02 - calcular o dueDate\n",
    "    dueDateLimit = calculateDueDate(jobs,percentage);\n",
    "    #print(\"due date limit: \", dueDateLimit)\n",
    "    # passo 03 - calcular o PiAi e o PiBi\n",
    "    jobs = calculatePiAiBi(jobs)\n",
    "    # passo 04 - Ordenar\n",
    "    sortedByPiAiDecreasing = sorted(jobs, key=lambda k: k['pi_ai'], reverse=True )\n",
    "    sortedByPiBiIncreasing = sorted(jobs, key=lambda k: k['pi_bi'] )\n",
    "    # passo 05 - calcular o beforeDueDate\n",
    "    beforeDueDate  = calculateJobsBeforeDueDate(sortedByPiAiDecreasing,sortedByPiBiIncreasing, dueDateLimit)\n",
    "    # passo 06 - Merge\n",
    "    result = merge(beforeDueDate, sortedByPiBiIncreasing)\n",
    "    # passo 07 - Calcular a função objetivo\n",
    "    resultsAfterFO = objectiveFunction(result, dueDateLimit)\n",
    "    # passo 08 = mostrar resultados\n",
    "    sumOfPenalties = getSumOfPenalties(resultsAfterFO)\n",
    "    sumOfProcessingTime = getProcessingTime(resultsAfterFO)\n",
    "    \n",
    "    #print(sumOfPenalties)\n",
    "    print(\"sum of Penalties: \", sumOfPenalties)\n",
    "    print(\"sum of processing time: \", sumOfProcessingTime)\n",
    "    \n",
    "    return resultsAfterFO\n",
    "    "
   ]
  },
  {
   "cell_type": "code",
   "execution_count": 73,
   "metadata": {},
   "outputs": [
    {
     "name": "stdout",
     "output_type": "stream",
     "text": [
      "----------------- k = 1 --------------------------\n",
      "sum of Penalties:  2152\n",
      "--------------------------------------------------\n",
      "\n",
      "----------------- k = 2 --------------------------\n",
      "sum of Penalties:  1787\n",
      "--------------------------------------------------\n",
      "\n",
      "----------------- k = 3 --------------------------\n",
      "sum of Penalties:  1731\n",
      "--------------------------------------------------\n",
      "\n",
      "----------------- k = 4 --------------------------\n",
      "sum of Penalties:  2411\n",
      "--------------------------------------------------\n",
      "\n",
      "----------------- k = 5 --------------------------\n",
      "sum of Penalties:  1525\n",
      "--------------------------------------------------\n",
      "\n",
      "----------------- k = 6 --------------------------\n",
      "sum of Penalties:  1640\n",
      "--------------------------------------------------\n",
      "\n",
      "----------------- k = 7 --------------------------\n",
      "sum of Penalties:  2674\n",
      "--------------------------------------------------\n",
      "\n",
      "----------------- k = 8 --------------------------\n",
      "sum of Penalties:  1828\n",
      "--------------------------------------------------\n",
      "\n",
      "----------------- k = 9 --------------------------\n",
      "sum of Penalties:  2001\n",
      "--------------------------------------------------\n",
      "\n",
      "----------------- k = 10 --------------------------\n",
      "sum of Penalties:  2037\n",
      "--------------------------------------------------\n",
      "\n"
     ]
    }
   ],
   "source": [
    "jobs = readJobsFromFile()\n",
    "k = 1\n",
    "for i in range(0,100,10):\n",
    "    print(\"----------------- k =\", k, \"--------------------------\" )\n",
    "    constructiveHeuristic(jobs[i:i+10], 0.2)\n",
    "    k +=1\n",
    "    print(\"--------------------------------------------------\\n\")\n",
    "    \n",
    "    "
   ]
  },
  {
   "cell_type": "code",
   "execution_count": 75,
   "metadata": {},
   "outputs": [
    {
     "name": "stdout",
     "output_type": "stream",
     "text": [
      "[{'initial_position': 4, 'processing_time': '13', 'earliness_penalty': '2', 'tardiness_penalty': '13', 'pi_ai': 6.5, 'pi_bi': 1.0, 'penalty_time': 12}, {'initial_position': 2, 'processing_time': '6', 'earliness_penalty': '1', 'tardiness_penalty': '15', 'pi_ai': 6.0, 'pi_bi': 0.4, 'penalty_time': 0}]\n",
      "[{'initial_position': 7, 'processing_time': '12', 'earliness_penalty': '5', 'tardiness_penalty': '15', 'pi_ai': 2.4, 'pi_bi': 0.8, 'penalty_time': 180}, {'initial_position': 3, 'processing_time': '13', 'earliness_penalty': '5', 'tardiness_penalty': '13', 'pi_ai': 2.6, 'pi_bi': 1.0, 'penalty_time': 325}, {'initial_position': 6, 'processing_time': '12', 'earliness_penalty': '9', 'tardiness_penalty': '8', 'pi_ai': 1.3333333333333333, 'pi_bi': 1.5, 'penalty_time': 296}, {'initial_position': 9, 'processing_time': '12', 'earliness_penalty': '6', 'tardiness_penalty': '8', 'pi_ai': 2.0, 'pi_bi': 1.5, 'penalty_time': 392}, {'initial_position': 5, 'processing_time': '12', 'earliness_penalty': '7', 'tardiness_penalty': '6', 'pi_ai': 1.7142857142857142, 'pi_bi': 2.0, 'penalty_time': 366}, {'initial_position': 8, 'processing_time': '3', 'earliness_penalty': '6', 'tardiness_penalty': '1', 'pi_ai': 0.5, 'pi_bi': 3.0, 'penalty_time': 64}, {'initial_position': 1, 'processing_time': '20', 'earliness_penalty': '4', 'tardiness_penalty': '5', 'pi_ai': 5.0, 'pi_bi': 4.0, 'penalty_time': 100}, {'initial_position': 10, 'processing_time': '13', 'earliness_penalty': '10', 'tardiness_penalty': '1', 'pi_ai': 1.3, 'pi_bi': 13.0, 'penalty_time': 97}]\n"
     ]
    }
   ],
   "source": [
    "# passo 02 - Quebrar o vetor em 2, Antes do due date e depois do due date\n",
    "\n",
    "def getBeforeDueDate(listToSplit, dueDate):\n",
    "    beforeDueDate = []\n",
    "    completion_time = 0\n",
    "    \n",
    "    for job in listToSplit: \n",
    "        completion_time = completion_time + int(job['processing_time'])\n",
    "        if( completion_time <= dueDate):\n",
    "            beforeDueDate.append(job)\n",
    "    return beforeDueDate\n",
    "            \n",
    "def getAfterDueDate(listToSplit, dueDate):\n",
    "    afterDueDate = []\n",
    "    completion_time = 0\n",
    "    \n",
    "    for job in listToSplit: \n",
    "        completion_time = completion_time + int(job['processing_time'])\n",
    "        if( completion_time > dueDate):\n",
    "            afterDueDate.append(job)\n",
    "    return afterDueDate\n",
    "\n",
    "\n",
    "print(getBeforeDueDate(listaAfterFO,23))\n",
    "print(getAfterDueDate(listaAfterFO,23))"
   ]
  },
  {
   "cell_type": "code",
   "execution_count": 103,
   "metadata": {},
   "outputs": [],
   "source": [
    "def getEvaluatedVector(beforeDueDate, afterDueDate, listToCompare, dueDate):\n",
    "    sumOfProcessingTime = getProcessingTime(beforeDueDate)\n",
    "    toReturn = listToCompare.copy()\n",
    "    \n",
    "    for job in afterDueDate:    \n",
    "        if int(job['processing_time'])<= dueDate - sumOfProcessingTime:\n",
    "            beforeDueDate.append(job)\n",
    "            afterDueDate.remove(job)\n",
    "            beforeDueDate = sorted(beforeDueDate, key=lambda k: k['pi_ai'],reverse=True)\n",
    "            \n",
    "            merged = beforeDueDate + afterDueDate\n",
    "            applyFO = objectiveFunction(merged,dueDate)\n",
    "            if getSumOfPenalties(applyFO) < getSumOfPenalties(listToCompare):\n",
    "                toReturn = applyFO.copy()\n",
    "            else:\n",
    "                toReturn = listToCompare.copy()\n",
    "    return toReturn\n"
   ]
  },
  {
   "cell_type": "code",
   "execution_count": 104,
   "metadata": {},
   "outputs": [],
   "source": [
    "#passo 03 - Pegar o ultimo elemento do afterduedate e colocar no before due date\n",
    "\n",
    "\n",
    "def heuristicaMelhoria(jobs, percentage):\n",
    "    \n",
    "    # passo 01 - Pegar o vetor resultante da heuristica \n",
    "    \n",
    "    listaAfterFO = constructiveHeuristic(jobs, percentage)\n",
    "    \n",
    "    \n",
    "    # passo 02- Buscar o DueDate\n",
    "    \n",
    "    dueDateLimit = calculateDueDate(listaAfterFO,percentage)    \n",
    "\n",
    "    \n",
    "    #passo 02- dividir o vetor em before e after duedate:\n",
    "    \n",
    "    beforeDueDate = getBeforeDueDate(listaAfterFO,dueDateLimit)\n",
    "    \n",
    "    afterDueDate = getAfterDueDate(listaAfterFO,dueDateLimit)\n",
    "    \n",
    "    # passo 03- utilizar os jobs do vetor AfterDuedate na folga do vetor beforeDueDate\n",
    "    \n",
    "    resultado = getEvaluatedVector(beforeDueDate, afterDueDate, listaAfterFO, dueDateLimit)\n",
    "    \n",
    "    \n",
    "    print(\"sum of Penalties: \", getSumOfPenalties(resultado))\n",
    "    print(\"sum of processing time: \", getProcessingTime(resultado))\n",
    "    \n"
   ]
  },
  {
   "cell_type": "code",
   "execution_count": 108,
   "metadata": {},
   "outputs": [
    {
     "name": "stdout",
     "output_type": "stream",
     "text": [
      "sum of Penalties:  1787\n",
      "sum of processing time:  129\n",
      "sum of Penalties:  1787\n",
      "sum of processing time:  129\n"
     ]
    }
   ],
   "source": [
    "toOptimizate = jobs[10:20]\n",
    "\n",
    "dueDate = int(calculateDueDate(toOptimizate,0.2))\n",
    "\n",
    "vetor = heuristicaMelhoria(toOptimizate,0.2) \n",
    "\n"
   ]
  },
  {
   "cell_type": "code",
   "execution_count": null,
   "metadata": {},
   "outputs": [],
   "source": []
  },
  {
   "cell_type": "code",
   "execution_count": null,
   "metadata": {},
   "outputs": [],
   "source": []
  }
 ],
 "metadata": {
  "kernelspec": {
   "display_name": "Python 3",
   "language": "python",
   "name": "python3"
  },
  "language_info": {
   "codemirror_mode": {
    "name": "ipython",
    "version": 3
   },
   "file_extension": ".py",
   "mimetype": "text/x-python",
   "name": "python",
   "nbconvert_exporter": "python",
   "pygments_lexer": "ipython3",
   "version": "3.6.5"
  },
  "varInspector": {
   "cols": {
    "lenName": 16,
    "lenType": 16,
    "lenVar": 40
   },
   "kernels_config": {
    "python": {
     "delete_cmd_postfix": "",
     "delete_cmd_prefix": "del ",
     "library": "var_list.py",
     "varRefreshCmd": "print(var_dic_list())"
    },
    "r": {
     "delete_cmd_postfix": ") ",
     "delete_cmd_prefix": "rm(",
     "library": "var_list.r",
     "varRefreshCmd": "cat(var_dic_list()) "
    }
   },
   "position": {
    "height": "592px",
    "left": "807px",
    "right": "20px",
    "top": "23px",
    "width": "479px"
   },
   "types_to_exclude": [
    "module",
    "function",
    "builtin_function_or_method",
    "instance",
    "_Feature"
   ],
   "window_display": false
  }
 },
 "nbformat": 4,
 "nbformat_minor": 2
}
