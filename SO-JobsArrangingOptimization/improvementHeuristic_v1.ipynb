{
 "cells": [
  {
   "cell_type": "code",
   "execution_count": 94,
   "metadata": {},
   "outputs": [],
   "source": [
    "## imports\n",
    "import csv\n",
    "import random as rand\n",
    "import copy"
   ]
  },
  {
   "cell_type": "code",
   "execution_count": 102,
   "metadata": {},
   "outputs": [],
   "source": [
    "class Job():\n",
    "    def __init__(self, initialPosition, processingTime, earlinessPenalty, tardinessPenalty, piAi, piBi, deltaAiBi, penaltyTime):\n",
    "        self.initialPosition = initialPosition\n",
    "        self.processingTime = processingTime\n",
    "        self.earlinessPenalty = earlinessPenalty\n",
    "        self.tardinessPenalty = tardinessPenalty\n",
    "        self.piAi = piAi\n",
    "        self.piBi = piBi\n",
    "        self.deltaAiBi = deltaAiBi\n",
    "        self.penaltyTime = penaltyTime\n",
    "        \n",
    "    def __str__(self):\n",
    "        return self.initialPosition"
   ]
  },
  {
   "cell_type": "code",
   "execution_count": 103,
   "metadata": {},
   "outputs": [],
   "source": [
    "def readJobsFromFile():    \n",
    "    jobs = []\n",
    "\n",
    "    spamReader = csv.reader(open('Jobs.csv', newline=''), delimiter=',', quotechar='|')\n",
    "    index = 1\n",
    "    for row in spamReader:\n",
    "        job = Job(index,row[0], row[1], row[2],0,0,0,0)\n",
    "        jobs.append(job)\n",
    "        index += 1\n",
    "\n",
    "    return jobs"
   ]
  },
  {
   "cell_type": "code",
   "execution_count": 104,
   "metadata": {},
   "outputs": [],
   "source": [
    "def ordeanandoDeltaAiBi(jobs):\n",
    "    \n",
    "    vetorOrdenado= []\n",
    "\n",
    "    for job in jobs:\n",
    "        if int(job.tardinessPenalty) >= int(job.earlinessPenalty):\n",
    "            job.deltaAiBi = int(job.tardinessPenalty) - int(job.earlinessPenalty)\n",
    "        else:\n",
    "            job.deltaAiBi = int(job.earlinessPenalty) - int(job.tardinessPenalty)         \n",
    "    vetorOrdenado =  sorted(jobs, key=lambda k: k.deltaAiBi,reverse=True )\n",
    "        \n",
    "    return vetorOrdenado"
   ]
  },
  {
   "cell_type": "code",
   "execution_count": 105,
   "metadata": {},
   "outputs": [],
   "source": [
    "def calculatePiAiBi(jobs):\n",
    "    for job in jobs:\n",
    "        job.piAi = int(job.processingTime) / int(job.earlinessPenalty) \n",
    "        job.piBi = int(job.processingTime) / int(job.tardinessPenalty) \n",
    "    return jobs"
   ]
  },
  {
   "cell_type": "code",
   "execution_count": 106,
   "metadata": {},
   "outputs": [],
   "source": [
    "def calculateDueDate(jobs, percentage):\n",
    "    sum = 0\n",
    "    for job in jobs:\n",
    "        sum += int(job.processingTime);\n",
    "    \n",
    "    return sum * percentage;"
   ]
  },
  {
   "cell_type": "code",
   "execution_count": 107,
   "metadata": {},
   "outputs": [],
   "source": [
    "def calculateJobsBeforeDueDate(vetorOrdenado, dueDateLimit):\n",
    "    \n",
    "    beforeDueDate = []\n",
    "        \n",
    "    sumOfProcessingTime = 0\n",
    "    for job in vetorOrdenado:\n",
    "        if sumOfProcessingTime + int(job.processingTime) >= dueDateLimit:\n",
    "            break\n",
    "        if (int (job.tardinessPenalty)- int(job.earlinessPenalty))>=0:\n",
    "            sumOfProcessingTime += int(job.processingTime)\n",
    "            beforeDueDate.append(job)\n",
    "             \n",
    "        \n",
    "    beforeDueDate = sorted(beforeDueDate, key=lambda k: k.piAi,reverse=True )          \n",
    "      \n",
    "    return beforeDueDate;"
   ]
  },
  {
   "cell_type": "code",
   "execution_count": 108,
   "metadata": {},
   "outputs": [],
   "source": [
    "def calculateJobsAfterDueDate(vetorOrdenado, beforeDueDate):\n",
    "    \n",
    "    afterDueDate = []\n",
    "        \n",
    "    for job in vetorOrdenado:\n",
    "        if job not in beforeDueDate:\n",
    "            afterDueDate.append(job)\n",
    "            \n",
    "    afterDueDate = sorted(afterDueDate, key=lambda k: k.piAi )\n",
    "    \n",
    "    return afterDueDate;"
   ]
  },
  {
   "cell_type": "code",
   "execution_count": 109,
   "metadata": {},
   "outputs": [],
   "source": [
    "def merge(beforeDueDate, afterDueDate):\n",
    "    \n",
    "    result = beforeDueDate + afterDueDate\n",
    "\n",
    "    return result"
   ]
  },
  {
   "cell_type": "code",
   "execution_count": 110,
   "metadata": {},
   "outputs": [],
   "source": [
    "def getSumOfPenalties(resultAfterFO):\n",
    "    sumOfPenalties = 0 \n",
    "\n",
    "    for job in resultAfterFO:\n",
    "        sumOfPenalties += int(job.penaltyTime)\n",
    "        \n",
    "    return sumOfPenalties;"
   ]
  },
  {
   "cell_type": "code",
   "execution_count": 111,
   "metadata": {},
   "outputs": [],
   "source": [
    "def getProcessingTime(resultAfterFO):\n",
    "    processingTime = 0 \n",
    "\n",
    "    for job in resultAfterFO:\n",
    "        processingTime += int(job.processingTime)\n",
    "        \n",
    "    return processingTime;"
   ]
  },
  {
   "cell_type": "code",
   "execution_count": 112,
   "metadata": {},
   "outputs": [],
   "source": [
    "def objectiveFunction(result, dueDateLimit, beforeDueDate):\n",
    "    completion_Time = int(dueDateLimit - getProcessingTime(beforeDueDate)) \n",
    "\n",
    "    resultAfterFO = [] \n",
    "    for job in result:\n",
    "        completion_Time= completion_Time + int(job.processingTime)\n",
    "        if(completion_Time < dueDateLimit):\n",
    "            job.penaltyTime = (int(dueDateLimit) - completion_Time) * int(job.earlinessPenalty)\n",
    "            resultAfterFO.append(job)\n",
    "        elif(completion_Time == dueDateLimit):\n",
    "            job.penaltyTime = (int(dueDateLimit) -completion_Time)\n",
    "            resultAfterFO.append(job)\n",
    "        elif(completion_Time > dueDateLimit):\n",
    "            job.penaltyTime = (completion_Time - int(dueDateLimit)) * int(job.tardinessPenalty)\n",
    "            resultAfterFO.append(job)\n",
    "    return resultAfterFO"
   ]
  },
  {
   "cell_type": "code",
   "execution_count": 113,
   "metadata": {},
   "outputs": [],
   "source": [
    "def constructiveHeuristic(jobs, percentage):\n",
    "    # passo 02 - calcular o dueDate\n",
    "    dueDateLimit = calculateDueDate(jobs,percentage);\n",
    "    \n",
    "    # passo 03 - calcular o PiAi e o PiBi\n",
    "    ordenaPiAiBi = calculatePiAiBi(jobs)      \n",
    "    # passo 04 - Ordenar    \n",
    "       \n",
    "    #ordenando o vetovocr pela diferenca bi-ai\n",
    "    vetorOrdenadoDelta= ordeanandoDeltaAiBi(jobs)\n",
    "    \n",
    "   \n",
    "    # passo 05 - calcular o beforeDueDate\n",
    "    beforeDueDateFinal  = calculateJobsBeforeDueDate(vetorOrdenadoDelta, dueDateLimit)\n",
    "    afterDueDateFinal = calculateJobsAfterDueDate(vetorOrdenadoDelta, beforeDueDateFinal)\n",
    "    # passo 06 - Merge    \n",
    "    result = merge(beforeDueDateFinal,  afterDueDateFinal)\n",
    "    # passo 07 - Calcular a função objetivo\n",
    "    resultsAfterFO = objectiveFunction(result, dueDateLimit, beforeDueDateFinal)\n",
    "    # passo 08 = mostrar resultados\n",
    "    sumOfPenalties = getSumOfPenalties(resultsAfterFO)\n",
    "    sumOfProcessingTime = getProcessingTime(resultsAfterFO)\n",
    "    \n",
    "    return resultsAfterFO\n",
    "    #print(dueDateLimit)\n",
    "    #print(\"\\n\")\n",
    "    #print(\"before\")\n",
    "    #for a in beforeDueDateFinal:\n",
    "        #print (a['initial_position'])\n",
    "    #print(\"\\n\")\n",
    "    #print(\"after\")    \n",
    "    #for a in afterDueDateFinal:\n",
    "        #print (a['initial_position'])\n",
    "    #print(result)\n",
    "    #print(sumOfPenalties)\n",
    "    #print(\"sum of processing time: \", sumOfProcessingTime)\n",
    "    #print(\"final result: \", sumOfPenalties + sumOfProcessingTime)\n",
    "    "
   ]
  },
  {
   "cell_type": "code",
   "execution_count": 114,
   "metadata": {
    "scrolled": false
   },
   "outputs": [],
   "source": [
    "jobs = readJobsFromFile()\n",
    "k = 1\n",
    "for i in range(0,100,10):\n",
    "    #print(\"----------------- k =\", k, \"--------------------------\" )\n",
    "    constructiveHeuristic(jobs[i:i+10], 0.6)\n",
    "    k +=1\n",
    "    #print(\"--------------------------------------------------\\n\")\n",
    "    \n",
    "    "
   ]
  },
  {
   "cell_type": "code",
   "execution_count": 115,
   "metadata": {},
   "outputs": [],
   "source": [
    "def getBeforeDueDate(listToSplit, dueDate):\n",
    "    beforeDueDate = []\n",
    "    completion_time = 0\n",
    "    for j in listToSplit:\n",
    "        if completion_time + int(j.processingTime) < dueDate:\n",
    "            beforeDueDate.append(j)\n",
    "    return beforeDueDate"
   ]
  },
  {
   "cell_type": "code",
   "execution_count": 116,
   "metadata": {},
   "outputs": [],
   "source": [
    "#pos = posicao que sera trocada\n",
    "#sol = solucao que sera trocada\n",
    "#n_elmentos= n_elementos da solucao\n",
    "\n",
    "def disturbing (listToDisturb):\n",
    "    toReturn = copy.deepcopy(listToDisturb)\n",
    "    rand.shuffle(toReturn)\n",
    "    return toReturn\n",
    "    "
   ]
  },
  {
   "cell_type": "code",
   "execution_count": 125,
   "metadata": {},
   "outputs": [],
   "source": [
    "def heuristicaMelhoria (jobs, percentage, depth):\n",
    "    \n",
    "\n",
    "    listaAfterFO = constructiveHeuristic(jobs, percentage)\n",
    "    melhor_solucao = listaAfterFO.copy()\n",
    "    for k in range(0,depth):\n",
    "        toDisturb = copy.deepcopy(melhor_solucao)\n",
    "        vizinho = disturbing(toDisturb)\n",
    "        #print(\"\\n -------- melhor solucao antes da FO --------\\n\")\n",
    "        #for m in melhor_solucao:\n",
    "        #    print(m.initialPosition, end=\" \")\n",
    "        #print(\"soma da melhor solução antes da FO: \", getSumOfPenalties(melhor_solucao))\n",
    "\n",
    "        dueDateMelhoria = calculateDueDate(vizinho.copy(),percentage)\n",
    "        beforeDueDateMelhoria = getBeforeDueDate (vizinho.copy(),dueDateMelhoria)\n",
    "        results = objectiveFunction (vizinho.copy(), dueDateMelhoria,beforeDueDateMelhoria)\n",
    "\n",
    "        #print(\"\\n -------- melhor solucao --------\\n\")\n",
    "        #for m in melhor_solucao:\n",
    "        #    print(m.initialPosition, end=\" \")\n",
    "        #print(\"soma da melhor solução: \", getSumOfPenalties(melhor_solucao))\n",
    "        \n",
    "        #print(\"se : \",getSumOfPenalties(results), \" < \", getSumOfPenalties(melhor_solucao) )\n",
    "        if getSumOfPenalties (results) < getSumOfPenalties(melhor_solucao) :\n",
    "        #    print(\"entreii mano\")\n",
    "            melhor_solucao = results.copy()\n",
    "    for i in melhor_solucao:\n",
    "        print(i.initialPosition, end = ' ')\n",
    "    print(\"soma de penalidade: \", getSumOfPenalties(results))\n",
    "    return melhor_solucao"
   ]
  },
  {
   "cell_type": "code",
   "execution_count": 129,
   "metadata": {},
   "outputs": [
    {
     "name": "stdout",
     "output_type": "stream",
     "text": [
      "1 4 2 7 3 9 10 6 5 8 soma de penalidade:  2272\n",
      "15 17 19 11 18 16 14 12 13 20 soma de penalidade:  4028\n",
      "27 24 22 28 21 29 26 23 25 30 soma de penalidade:  4152\n",
      "36 40 31 32 33 35 34 37 39 38 soma de penalidade:  2426\n",
      "45 49 42 47 50 44 43 46 41 48 soma de penalidade:  1506\n",
      "58 57 52 54 60 55 56 53 51 59 soma de penalidade:  1767\n",
      "68 63 66 61 65 70 64 67 69 62 soma de penalidade:  2979\n",
      "80 77 74 71 79 78 76 75 72 73 soma de penalidade:  1850\n",
      "84 81 87 88 85 90 89 82 86 83 soma de penalidade:  1908\n",
      "100 99 91 98 93 95 92 97 96 94 soma de penalidade:  2426\n"
     ]
    }
   ],
   "source": [
    "jobsMelhoria = readJobsFromFile()\n",
    "k = 1\n",
    "for i in range(0,100,10):\n",
    "    #print(\"----------------- k =\", k, \"--------------------------\" )\n",
    "    heuristicaMelhoria(jobsMelhoria[i:i+10], 0.2, 10000 )\n",
    "    k +=1\n",
    "    #print(\"--------------------------------------------------\\n\")"
   ]
  },
  {
   "cell_type": "code",
   "execution_count": null,
   "metadata": {},
   "outputs": [],
   "source": []
  }
 ],
 "metadata": {
  "kernelspec": {
   "display_name": "Python 3",
   "language": "python",
   "name": "python3"
  },
  "language_info": {
   "codemirror_mode": {
    "name": "ipython",
    "version": 3
   },
   "file_extension": ".py",
   "mimetype": "text/x-python",
   "name": "python",
   "nbconvert_exporter": "python",
   "pygments_lexer": "ipython3",
   "version": "3.6.5"
  },
  "varInspector": {
   "cols": {
    "lenName": 16,
    "lenType": 16,
    "lenVar": 40
   },
   "kernels_config": {
    "python": {
     "delete_cmd_postfix": "",
     "delete_cmd_prefix": "del ",
     "library": "var_list.py",
     "varRefreshCmd": "print(var_dic_list())"
    },
    "r": {
     "delete_cmd_postfix": ") ",
     "delete_cmd_prefix": "rm(",
     "library": "var_list.r",
     "varRefreshCmd": "cat(var_dic_list()) "
    }
   },
   "types_to_exclude": [
    "module",
    "function",
    "builtin_function_or_method",
    "instance",
    "_Feature"
   ],
   "window_display": false
  }
 },
 "nbformat": 4,
 "nbformat_minor": 2
}
