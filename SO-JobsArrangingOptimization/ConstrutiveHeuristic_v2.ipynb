{
 "cells": [
  {
   "cell_type": "code",
   "execution_count": 1,
   "metadata": {},
   "outputs": [],
   "source": [
    "## imports\n",
    "import csv"
   ]
  },
  {
   "cell_type": "code",
   "execution_count": 2,
   "metadata": {},
   "outputs": [],
   "source": [
    "percentage = 0.2;\n",
    "initial_job_number = 0;\n",
    "final_job_number= 10;"
   ]
  },
  {
   "cell_type": "code",
   "execution_count": 3,
   "metadata": {},
   "outputs": [],
   "source": [
    "def calculateDueDate(jobs):\n",
    "    sum = 0\n",
    "    for job in jobs:\n",
    "        sum += int(job['processing_time']);\n",
    "    \n",
    "    return sum * percentage;"
   ]
  },
  {
   "cell_type": "code",
   "execution_count": 4,
   "metadata": {},
   "outputs": [],
   "source": [
    "def readJobsFromFile():    \n",
    "    jobs = []\n",
    "\n",
    "    spamReader = csv.reader(open('Jobs.csv', newline=''), delimiter=',', quotechar='|')\n",
    "    index = 1\n",
    "    for row in spamReader:\n",
    "        job = {}\n",
    "        job['initial_position'] = index\n",
    "        job['processing_time'] = row[0]\n",
    "        job['earliness_penalty'] = row[1]\n",
    "        job['tardiness_penalty'] = row[2]\n",
    "        jobs.append(job)\n",
    "        index += 1\n",
    "\n",
    "    return jobs[initial_job_number:final_job_number]"
   ]
  },
  {
   "cell_type": "code",
   "execution_count": 5,
   "metadata": {},
   "outputs": [],
   "source": [
    "def objectiveFunction(result, dueDateLimit):\n",
    "    completionTime = 0 \n",
    "    resultAfterFO = [] \n",
    "\n",
    "    for job in result:\n",
    "        if(completionTime < dueDateLimit):\n",
    "            job['penalty_time'] = (dueDateLimit - completionTime) * int(job['earliness_penalty'])\n",
    "            resultAfterFO.append(job)\n",
    "        elif(completion_time == due_date_limited):\n",
    "            job['penalty_time'] = (dueDateLimit - completionTime)\n",
    "        elif(completion_time > due_date_limited):\n",
    "            job['penalty_time'] = (completion_time - dueDateLimit) * int(job['tardiness_penalty'])\n",
    "            resultAfterFO.append(job)\n",
    "    return resultAfterFO;"
   ]
  },
  {
   "cell_type": "code",
   "execution_count": 21,
   "metadata": {},
   "outputs": [],
   "source": [
    "def getSumOfPenalties(resultsAfterFO):\n",
    "    sumOfPenalties = 0 \n",
    "\n",
    "    for job in resultAfterFO:\n",
    "        sumOfPenalties += int(job['penalty_time'])\n",
    "        \n",
    "    return sumOfPenalties;"
   ]
  },
  {
   "cell_type": "code",
   "execution_count": 22,
   "metadata": {},
   "outputs": [],
   "source": [
    "def getProcessingTime(resultsAfterFO):\n",
    "    processingTime = 0 \n",
    "\n",
    "    for job in resultAfterFO:\n",
    "        processingTime += int(job['processing_time'])\n",
    "        \n",
    "    return processingTime;"
   ]
  },
  {
   "cell_type": "code",
   "execution_count": 8,
   "metadata": {},
   "outputs": [],
   "source": [
    "def calculatePiAiBi(jobs):\n",
    "    for job in jobs:\n",
    "        job['pi_ai'] = int(job['processing_time']) / int(job['earliness_penalty']) \n",
    "        job['pi_bi'] = int(job['processing_time']) / int(job['tardiness_penalty']) \n",
    "    return jobs"
   ]
  },
  {
   "cell_type": "code",
   "execution_count": 9,
   "metadata": {},
   "outputs": [],
   "source": [
    "def calculateJobsBeforeDueDate(sortedByPiAiDecreasing, dueDateLimit):\n",
    "    beforeDueDate = []\n",
    "\n",
    "    sumOfProcessingTime = 0\n",
    "    for job in sortedByPiAiDecreasing:\n",
    "        sumOfProcessingTime += int(job['processing_time'])\n",
    "        if sumOfProcessingTime < dueDateLimit:\n",
    "            beforeDueDate.append(job)\n",
    "            sortedByPiBiIncreasing.remove(job)\n",
    "\n",
    "    beforeDueDate = sorted(beforeDueDate, key=lambda k: k['pi_ai'] )\n",
    "    return beforeDueDate;"
   ]
  },
  {
   "cell_type": "code",
   "execution_count": 10,
   "metadata": {},
   "outputs": [],
   "source": [
    "def merge(beforeDueDate, sortedByPiBiIncreasing):\n",
    "    result = beforeDueDate + sortedByPiBiIncreasing\n",
    "    return result"
   ]
  },
  {
   "cell_type": "code",
   "execution_count": 11,
   "metadata": {},
   "outputs": [],
   "source": [
    "# passo 01 - ler jobs do arquivo csv\n",
    "jobs = readJobsFromFile()"
   ]
  },
  {
   "cell_type": "code",
   "execution_count": 12,
   "metadata": {},
   "outputs": [],
   "source": [
    "# passo 02 - calcular o dueDate\n",
    "dueDateLimit = calculateDueDate(jobs);"
   ]
  },
  {
   "cell_type": "code",
   "execution_count": 13,
   "metadata": {},
   "outputs": [],
   "source": [
    "# passo 03 - calcular o PiAi e o PiBi\n",
    "jobs = calculatePiAiBi(jobs)"
   ]
  },
  {
   "cell_type": "code",
   "execution_count": 14,
   "metadata": {},
   "outputs": [],
   "source": [
    "# passo 04 - Ordenar\n",
    "sortedByPiAiDecreasing = sorted(jobs, key=lambda k: k['pi_ai'], reverse=True )\n",
    "sortedByPiBiIncreasing = sorted(jobs, key=lambda k: k['pi_bi'] )"
   ]
  },
  {
   "cell_type": "code",
   "execution_count": 15,
   "metadata": {},
   "outputs": [],
   "source": [
    "# passo 05 - calcular o beforeDueDate\n",
    "beforeDueDate  = calculateJobsBeforeDueDate(sortedByPiAiDecreasing, dueDateLimit)"
   ]
  },
  {
   "cell_type": "code",
   "execution_count": 16,
   "metadata": {},
   "outputs": [],
   "source": [
    "# passo 06 - Merge\n",
    "result = merge(beforeDueDate, sortedByPiBiIncreasing)"
   ]
  },
  {
   "cell_type": "code",
   "execution_count": 19,
   "metadata": {},
   "outputs": [],
   "source": [
    "# passo 07 - Calcular a função objetivo\n",
    "resultsAfterFO = objectiveFunction(result, dueDateLimit)"
   ]
  },
  {
   "cell_type": "code",
   "execution_count": 23,
   "metadata": {},
   "outputs": [],
   "source": [
    "# passo 08 = mostrar resultados\n",
    "\n",
    "sumOfPenalties = getSumOfPenalties(resultsAfterFO)\n",
    "sumOfProcessingTime = getProcessingTime(resultsAfterFO)\n"
   ]
  },
  {
   "cell_type": "code",
   "execution_count": 26,
   "metadata": {},
   "outputs": [
    {
     "name": "stdout",
     "output_type": "stream",
     "text": [
      "{'initial_position': 2, 'processing_time': '6', 'earliness_penalty': '1', 'tardiness_penalty': '15', 'pi_ai': 6.0, 'pi_bi': 0.4, 'penalty_time': 23.200000000000003}\n",
      "{'initial_position': 4, 'processing_time': '13', 'earliness_penalty': '2', 'tardiness_penalty': '13', 'pi_ai': 6.5, 'pi_bi': 1.0, 'penalty_time': 46.400000000000006}\n",
      "{'initial_position': 7, 'processing_time': '12', 'earliness_penalty': '5', 'tardiness_penalty': '15', 'pi_ai': 2.4, 'pi_bi': 0.8, 'penalty_time': 116.00000000000001}\n",
      "{'initial_position': 3, 'processing_time': '13', 'earliness_penalty': '5', 'tardiness_penalty': '13', 'pi_ai': 2.6, 'pi_bi': 1.0, 'penalty_time': 116.00000000000001}\n",
      "{'initial_position': 6, 'processing_time': '12', 'earliness_penalty': '9', 'tardiness_penalty': '8', 'pi_ai': 1.3333333333333333, 'pi_bi': 1.5, 'penalty_time': 208.8}\n",
      "{'initial_position': 9, 'processing_time': '12', 'earliness_penalty': '6', 'tardiness_penalty': '8', 'pi_ai': 2.0, 'pi_bi': 1.5, 'penalty_time': 139.20000000000002}\n",
      "{'initial_position': 5, 'processing_time': '12', 'earliness_penalty': '7', 'tardiness_penalty': '6', 'pi_ai': 1.7142857142857142, 'pi_bi': 2.0, 'penalty_time': 162.40000000000003}\n",
      "{'initial_position': 8, 'processing_time': '3', 'earliness_penalty': '6', 'tardiness_penalty': '1', 'pi_ai': 0.5, 'pi_bi': 3.0, 'penalty_time': 139.20000000000002}\n",
      "{'initial_position': 1, 'processing_time': '20', 'earliness_penalty': '4', 'tardiness_penalty': '5', 'pi_ai': 5.0, 'pi_bi': 4.0, 'penalty_time': 92.80000000000001}\n",
      "{'initial_position': 10, 'processing_time': '13', 'earliness_penalty': '10', 'tardiness_penalty': '1', 'pi_ai': 1.3, 'pi_bi': 13.0, 'penalty_time': 232.00000000000003}\n",
      "sum of Penalties:  1273\n",
      "sum of processing time:  116\n",
      "final result:  1389\n"
     ]
    }
   ],
   "source": [
    "#print the results\n",
    "for job in resultsAfterFO:\n",
    "    print (job);\n",
    "    \n",
    "print(\"sum of Penalties: \", sumOfPenalties)\n",
    "print(\"sum of processing time: \", sumOfProcessingTime)\n",
    "print(\"final result: \", sumOfPenalties + sumOfProcessingTime)"
   ]
  },
  {
   "cell_type": "code",
   "execution_count": null,
   "metadata": {},
   "outputs": [],
   "source": []
  }
 ],
 "metadata": {
  "kernelspec": {
   "display_name": "Python 3",
   "language": "python",
   "name": "python3"
  },
  "language_info": {
   "codemirror_mode": {
    "name": "ipython",
    "version": 3
   },
   "file_extension": ".py",
   "mimetype": "text/x-python",
   "name": "python",
   "nbconvert_exporter": "python",
   "pygments_lexer": "ipython3",
   "version": "3.6.5"
  }
 },
 "nbformat": 4,
 "nbformat_minor": 2
}
