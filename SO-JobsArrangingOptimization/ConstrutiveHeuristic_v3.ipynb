{
 "cells": [
  {
   "cell_type": "code",
   "execution_count": 2,
   "metadata": {},
   "outputs": [],
   "source": [
    "## imports\n",
    "import csv"
   ]
  },
  {
   "cell_type": "code",
   "execution_count": 3,
   "metadata": {},
   "outputs": [],
   "source": [
    "def calculateDueDate(jobs, percentage):\n",
    "    sum = 0\n",
    "    for job in jobs:\n",
    "        sum += int(job['processing_time']);\n",
    "    \n",
    "    return sum * percentage;"
   ]
  },
  {
   "cell_type": "code",
   "execution_count": 4,
   "metadata": {},
   "outputs": [],
   "source": [
    "def readJobsFromFile():    \n",
    "    jobs = []\n",
    "\n",
    "    spamReader = csv.reader(open('Jobs.csv', newline=''), delimiter=',', quotechar='|')\n",
    "    index = 1\n",
    "    for row in spamReader:\n",
    "        job = {}\n",
    "        job['initial_position'] = index\n",
    "        job['processing_time'] = row[0]\n",
    "        job['earliness_penalty'] = row[1]\n",
    "        job['tardiness_penalty'] = row[2]\n",
    "        jobs.append(job)\n",
    "        index += 1\n",
    "\n",
    "    return jobs"
   ]
  },
  {
   "cell_type": "code",
   "execution_count": 5,
   "metadata": {},
   "outputs": [],
   "source": [
    "def objectiveFunction(result, dueDateLimit):\n",
    "    completion_Time = 0 \n",
    "    resultAfterFO = [] \n",
    "\n",
    "    for job in result:\n",
    "        completion_Time= completion_Time + int(job['processing_time'])\n",
    "        if(completion_Time < dueDateLimit):\n",
    "            job['penalty_time'] = (int(dueDateLimit) - completion_Time) * int(job['earliness_penalty'])\n",
    "            resultAfterFO.append(job)\n",
    "        elif(completion_Time == dueDateLimit):\n",
    "            job['penalty_time'] = (int(dueDateLimit) -completion_Time)\n",
    "        elif(completion_Time > dueDateLimit):\n",
    "            job['penalty_time'] = (completion_Time - int(dueDateLimit)) * int(job['tardiness_penalty'])\n",
    "            resultAfterFO.append(job)\n",
    "    return resultAfterFO"
   ]
  },
  {
   "cell_type": "code",
   "execution_count": 6,
   "metadata": {},
   "outputs": [],
   "source": [
    "def getSumOfPenalties(resultsAfterFO):\n",
    "    sumOfPenalties = 0 \n",
    "\n",
    "    for job in resultsAfterFO:\n",
    "        sumOfPenalties += int(job['penalty_time'])\n",
    "        \n",
    "    return sumOfPenalties;"
   ]
  },
  {
   "cell_type": "code",
   "execution_count": 7,
   "metadata": {},
   "outputs": [],
   "source": [
    "def getProcessingTime(resultsAfterFO):\n",
    "    processingTime = 0 \n",
    "\n",
    "    for job in resultsAfterFO:\n",
    "        processingTime += int(job['processing_time'])\n",
    "        \n",
    "    return processingTime;"
   ]
  },
  {
   "cell_type": "code",
   "execution_count": 8,
   "metadata": {},
   "outputs": [],
   "source": [
    "def calculatePiAiBi(jobs):\n",
    "    for job in jobs:\n",
    "        job['pi_ai'] = int(job['processing_time']) / int(job['earliness_penalty']) \n",
    "        job['pi_bi'] = int(job['processing_time']) / int(job['tardiness_penalty']) \n",
    "    return jobs"
   ]
  },
  {
   "cell_type": "code",
   "execution_count": 9,
   "metadata": {},
   "outputs": [],
   "source": [
    "def calculateJobsBeforeDueDate(sortedByPiAiDecreasing,sortedByPiBiIncreasing, dueDateLimit):\n",
    "    beforeDueDate = []\n",
    "\n",
    "    sumOfProcessingTime = 0\n",
    "    for job in sortedByPiAiDecreasing:\n",
    "        sumOfProcessingTime += int(job['processing_time'])\n",
    "        if sumOfProcessingTime < dueDateLimit:\n",
    "            beforeDueDate.append(job)\n",
    "            sortedByPiBiIncreasing.remove(job)\n",
    "\n",
    "    beforeDueDate = sorted(beforeDueDate, key=lambda k: k['pi_ai'],reverse=True )\n",
    "\n",
    "    return beforeDueDate;"
   ]
  },
  {
   "cell_type": "code",
   "execution_count": 10,
   "metadata": {},
   "outputs": [],
   "source": [
    "def merge(beforeDueDate, sortedByPiBiIncreasing):\n",
    "    result = beforeDueDate + sortedByPiBiIncreasing\n",
    "    return result"
   ]
  },
  {
   "cell_type": "code",
   "execution_count": 11,
   "metadata": {},
   "outputs": [],
   "source": [
    "def constructiveHeuristic(jobs, percentage):\n",
    "    # passo 02 - calcular o dueDate\n",
    "    dueDateLimit = calculateDueDate(jobs,percentage);\n",
    "    print(\"due date limit: \", dueDateLimit)\n",
    "    # passo 03 - calcular o PiAi e o PiBi\n",
    "    jobs = calculatePiAiBi(jobs)\n",
    "    # passo 04 - Ordenar\n",
    "    sortedByPiAiDecreasing = sorted(jobs, key=lambda k: k['pi_ai'], reverse=True )\n",
    "    sortedByPiBiIncreasing = sorted(jobs, key=lambda k: k['pi_bi'] )\n",
    "    # passo 05 - calcular o beforeDueDate\n",
    "    beforeDueDate  = calculateJobsBeforeDueDate(sortedByPiAiDecreasing,sortedByPiBiIncreasing, dueDateLimit)\n",
    "    # passo 06 - Merge\n",
    "    result = merge(beforeDueDate, sortedByPiBiIncreasing)\n",
    "    # passo 07 - Calcular a função objetivo\n",
    "    resultsAfterFO = objectiveFunction(result, dueDateLimit)\n",
    "    # passo 08 = mostrar resultados\n",
    "    sumOfPenalties = getSumOfPenalties(resultsAfterFO)\n",
    "    sumOfProcessingTime = getProcessingTime(resultsAfterFO)\n",
    "    \n",
    "    print(\"sum of Penalties: \", sumOfPenalties)\n",
    "    print(\"sum of processing time: \", sumOfProcessingTime)\n",
    "    print(\"final result: \", sumOfPenalties + sumOfProcessingTime)\n",
    "    "
   ]
  },
  {
   "cell_type": "code",
   "execution_count": 12,
   "metadata": {},
   "outputs": [
    {
     "name": "stdout",
     "output_type": "stream",
     "text": [
      "----------------- k = 1 --------------------------\n",
      "due date limit:  23.200000000000003\n",
      "sum of Penalties:  1936\n",
      "sum of processing time:  116\n",
      "final result:  2052\n",
      "--------------------------------------------------\n",
      "\n",
      "----------------- k = 2 --------------------------\n",
      "due date limit:  25.8\n",
      "sum of Penalties:  1787\n",
      "sum of processing time:  129\n",
      "final result:  1916\n",
      "--------------------------------------------------\n",
      "\n",
      "----------------- k = 3 --------------------------\n",
      "due date limit:  25.0\n",
      "sum of Penalties:  1731\n",
      "sum of processing time:  119\n",
      "final result:  1850\n",
      "--------------------------------------------------\n",
      "\n",
      "----------------- k = 4 --------------------------\n",
      "due date limit:  20.400000000000002\n",
      "sum of Penalties:  2183\n",
      "sum of processing time:  102\n",
      "final result:  2285\n",
      "--------------------------------------------------\n",
      "\n",
      "----------------- k = 5 --------------------------\n",
      "due date limit:  18.8\n",
      "sum of Penalties:  1484\n",
      "sum of processing time:  94\n",
      "final result:  1578\n",
      "--------------------------------------------------\n",
      "\n",
      "----------------- k = 6 --------------------------\n",
      "due date limit:  17.6\n",
      "sum of Penalties:  1592\n",
      "sum of processing time:  88\n",
      "final result:  1680\n",
      "--------------------------------------------------\n",
      "\n",
      "----------------- k = 7 --------------------------\n",
      "due date limit:  20.6\n",
      "sum of Penalties:  2612\n",
      "sum of processing time:  103\n",
      "final result:  2715\n",
      "--------------------------------------------------\n",
      "\n",
      "----------------- k = 8 --------------------------\n",
      "due date limit:  15.8\n",
      "sum of Penalties:  1828\n",
      "sum of processing time:  79\n",
      "final result:  1907\n",
      "--------------------------------------------------\n",
      "\n",
      "----------------- k = 9 --------------------------\n",
      "due date limit:  18.400000000000002\n",
      "sum of Penalties:  1913\n",
      "sum of processing time:  92\n",
      "final result:  2005\n",
      "--------------------------------------------------\n",
      "\n",
      "----------------- k = 10 --------------------------\n",
      "due date limit:  25.400000000000002\n",
      "sum of Penalties:  1913\n",
      "sum of processing time:  127\n",
      "final result:  2040\n",
      "--------------------------------------------------\n",
      "\n"
     ]
    }
   ],
   "source": [
    "jobs = readJobsFromFile()\n",
    "\n",
    "k = 1\n",
    "for i in range(0,100,10):\n",
    "    print(\"----------------- k =\", k, \"--------------------------\" )\n",
    "    constructiveHeuristic(jobs[i:i+10], 0.2)\n",
    "    k +=1\n",
    "    print(\"--------------------------------------------------\\n\")\n",
    "    "
   ]
  },
  {
   "cell_type": "code",
   "execution_count": null,
   "metadata": {},
   "outputs": [],
   "source": []
  }
 ],
 "metadata": {
  "kernelspec": {
   "display_name": "Python 3",
   "language": "python",
   "name": "python3"
  },
  "language_info": {
   "codemirror_mode": {
    "name": "ipython",
    "version": 3
   },
   "file_extension": ".py",
   "mimetype": "text/x-python",
   "name": "python",
   "nbconvert_exporter": "python",
   "pygments_lexer": "ipython3",
   "version": "3.6.5"
  }
 },
 "nbformat": 4,
 "nbformat_minor": 2
}
