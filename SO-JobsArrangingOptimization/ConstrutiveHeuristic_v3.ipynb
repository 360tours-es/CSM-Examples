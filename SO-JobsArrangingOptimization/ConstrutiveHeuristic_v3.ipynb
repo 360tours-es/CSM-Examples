{
 "cells": [
  {
   "cell_type": "code",
   "execution_count": 1,
   "metadata": {},
   "outputs": [],
   "source": [
    "## imports\n",
    "import csv"
   ]
  },
  {
   "cell_type": "code",
   "execution_count": 24,
   "metadata": {},
   "outputs": [],
   "source": [
    "def calculateDueDate(jobs, percentage):\n",
    "    sum = 0\n",
    "    for job in jobs:\n",
    "        sum += int(job['processing_time']);\n",
    "    \n",
    "    return sum * percentage;"
   ]
  },
  {
   "cell_type": "code",
   "execution_count": 25,
   "metadata": {},
   "outputs": [],
   "source": [
    "def readJobsFromFile():    \n",
    "    jobs = []\n",
    "\n",
    "    spamReader = csv.reader(open('Jobs.csv', newline=''), delimiter=',', quotechar='|')\n",
    "    index = 1\n",
    "    for row in spamReader:\n",
    "        job = {}\n",
    "        job['initial_position'] = index\n",
    "        job['processing_time'] = row[0]\n",
    "        job['earliness_penalty'] = row[1]\n",
    "        job['tardiness_penalty'] = row[2]\n",
    "        jobs.append(job)\n",
    "        index += 1\n",
    "\n",
    "    return jobs"
   ]
  },
  {
   "cell_type": "code",
   "execution_count": 41,
   "metadata": {},
   "outputs": [],
   "source": [
    "def objectiveFunction(result, dueDateLimit):\n",
    "    completion_Time = 0 \n",
    "    resultAfterFO = [] \n",
    "\n",
    "    for job in result:\n",
    "        completion_Time= completion_Time + int(job['processing_time'])\n",
    "        if(completion_Time < dueDateLimit):\n",
    "            job['penalty_time'] = (int(dueDateLimit) - completion_Time) * int(job['earliness_penalty'])\n",
    "            resultAfterFO.append(job)\n",
    "        elif(completion_Time == dueDateLimit):\n",
    "            job['penalty_time'] = (int(dueDateLimit) -completion_Time)\n",
    "        elif(completion_Time > dueDateLimit):\n",
    "            job['penalty_time'] = (completion_Time - int(dueDateLimit)) * int(job['tardiness_penalty'])\n",
    "            resultAfterFO.append(job)\n",
    "    return resultAfterFO"
   ]
  },
  {
   "cell_type": "code",
   "execution_count": 42,
   "metadata": {},
   "outputs": [],
   "source": [
    "def getSumOfPenalties(resultsAfterFO):\n",
    "    sumOfPenalties = 0 \n",
    "\n",
    "    for job in resultsAfterFO:\n",
    "        sumOfPenalties += int(job['penalty_time'])\n",
    "        \n",
    "    return sumOfPenalties;"
   ]
  },
  {
   "cell_type": "code",
   "execution_count": 43,
   "metadata": {},
   "outputs": [],
   "source": [
    "def getProcessingTime(resultsAfterFO):\n",
    "    processingTime = 0 \n",
    "\n",
    "    for job in resultsAfterFO:\n",
    "        processingTime += int(job['processing_time'])\n",
    "        \n",
    "    return processingTime;"
   ]
  },
  {
   "cell_type": "code",
   "execution_count": 44,
   "metadata": {},
   "outputs": [],
   "source": [
    "def calculatePiAiBi(jobs):\n",
    "    for job in jobs:\n",
    "        job['pi_ai'] = int(job['processing_time']) / int(job['earliness_penalty']) \n",
    "        job['pi_bi'] = int(job['processing_time']) / int(job['tardiness_penalty']) \n",
    "    return jobs"
   ]
  },
  {
   "cell_type": "code",
   "execution_count": 45,
   "metadata": {},
   "outputs": [],
   "source": [
    "def calculateJobsBeforeDueDate(sortedByPiAiDecreasing,sortedByPiBiIncreasing, dueDateLimit):\n",
    "    beforeDueDate = []\n",
    "\n",
    "    sumOfProcessingTime = 0\n",
    "    for job in sortedByPiAiDecreasing:\n",
    "        sumOfProcessingTime += int(job['processing_time'])\n",
    "        if sumOfProcessingTime < dueDateLimit:\n",
    "            beforeDueDate.append(job)\n",
    "            sortedByPiBiIncreasing.remove(job)\n",
    "\n",
    "    beforeDueDate = sorted(beforeDueDate, key=lambda k: k['pi_ai'],reverse=True )\n",
    "\n",
    "    return beforeDueDate;"
   ]
  },
  {
   "cell_type": "code",
   "execution_count": 46,
   "metadata": {},
   "outputs": [],
   "source": [
    "def merge(beforeDueDate, sortedByPiBiIncreasing):\n",
    "    result = beforeDueDate + sortedByPiBiIncreasing\n",
    "    return result"
   ]
  },
  {
   "cell_type": "code",
   "execution_count": 37,
   "metadata": {},
   "outputs": [],
   "source": [
    "def constructiveHeuristic(jobs, percentage):\n",
    "    # passo 02 - calcular o dueDate\n",
    "    dueDateLimit = calculateDueDate(jobs,percentage);\n",
    "    print(\"due date limit: \", dueDateLimit)\n",
    "    # passo 03 - calcular o PiAi e o PiBi\n",
    "    jobs = calculatePiAiBi(jobs)\n",
    "    # passo 04 - Ordenar\n",
    "    sortedByPiAiDecreasing = sorted(jobs, key=lambda k: k['pi_ai'], reverse=True )\n",
    "    sortedByPiBiIncreasing = sorted(jobs, key=lambda k: k['pi_bi'] )\n",
    "    # passo 05 - calcular o beforeDueDate\n",
    "    beforeDueDate  = calculateJobsBeforeDueDate(sortedByPiAiDecreasing,sortedByPiBiIncreasing, dueDateLimit)\n",
    "    # passo 06 - Merge\n",
    "    result = merge(beforeDueDate, sortedByPiBiIncreasing)\n",
    "    # passo 07 - Calcular a função objetivo\n",
    "    resultsAfterFO = objectiveFunction(result, dueDateLimit)\n",
    "    # passo 08 = mostrar resultados\n",
    "    sumOfPenalties = getSumOfPenalties(resultsAfterFO)\n",
    "    sumOfProcessingTime = getProcessingTime(resultsAfterFO)\n",
    "    \n",
    "    for job in resultsAfterFO:\n",
    "        print (job)\n",
    "    print(\"sum of Penalties: \", sumOfPenalties)\n",
    "    print(\"sum of processing time: \", sumOfProcessingTime)\n",
    "    print(\"final result: \", sumOfPenalties + sumOfProcessingTime)\n",
    "    "
   ]
  },
  {
   "cell_type": "code",
   "execution_count": 35,
   "metadata": {},
   "outputs": [
    {
     "name": "stdout",
     "output_type": "stream",
     "text": [
      "----------------- k = 1 --------------------------\n",
      "due date limit:  23.200000000000003\n",
      "sum of Penalties:  1273\n",
      "sum of processing time:  116\n",
      "final result:  1389\n",
      "--------------------------------------------------\n",
      "\n",
      "----------------- k = 2 --------------------------\n",
      "due date limit:  25.8\n",
      "sum of Penalties:  1700\n",
      "sum of processing time:  129\n",
      "final result:  1829\n",
      "--------------------------------------------------\n",
      "\n",
      "----------------- k = 3 --------------------------\n",
      "due date limit:  25.0\n",
      "sum of Penalties:  1450\n",
      "sum of processing time:  125\n",
      "final result:  1575\n",
      "--------------------------------------------------\n",
      "\n",
      "----------------- k = 4 --------------------------\n",
      "due date limit:  20.400000000000002\n",
      "sum of Penalties:  1015\n",
      "sum of processing time:  102\n",
      "final result:  1117\n",
      "--------------------------------------------------\n",
      "\n",
      "----------------- k = 5 --------------------------\n",
      "due date limit:  18.8\n",
      "sum of Penalties:  1104\n",
      "sum of processing time:  94\n",
      "final result:  1198\n",
      "--------------------------------------------------\n",
      "\n",
      "----------------- k = 6 --------------------------\n",
      "due date limit:  17.6\n",
      "sum of Penalties:  910\n",
      "sum of processing time:  88\n",
      "final result:  998\n",
      "--------------------------------------------------\n",
      "\n",
      "----------------- k = 7 --------------------------\n",
      "due date limit:  20.6\n",
      "sum of Penalties:  1459\n",
      "sum of processing time:  103\n",
      "final result:  1562\n",
      "--------------------------------------------------\n",
      "\n",
      "----------------- k = 8 --------------------------\n",
      "due date limit:  15.8\n",
      "sum of Penalties:  976\n",
      "sum of processing time:  79\n",
      "final result:  1055\n",
      "--------------------------------------------------\n",
      "\n",
      "----------------- k = 9 --------------------------\n",
      "due date limit:  18.400000000000002\n",
      "sum of Penalties:  1007\n",
      "sum of processing time:  92\n",
      "final result:  1099\n",
      "--------------------------------------------------\n",
      "\n",
      "----------------- k = 10 --------------------------\n",
      "due date limit:  25.400000000000002\n",
      "sum of Penalties:  1393\n",
      "sum of processing time:  127\n",
      "final result:  1520\n",
      "--------------------------------------------------\n",
      "\n"
     ]
    }
   ],
   "source": [
    "jobs = readJobsFromFile()\n",
    "\n",
    "k = 1\n",
    "for i in range(0,100,10):\n",
    "    print(\"----------------- k =\", k, \"--------------------------\" )\n",
    "    constructiveHeuristic(jobs[i:i+10], 0.2)\n",
    "    k +=1\n",
    "    print(\"--------------------------------------------------\\n\")\n",
    "    "
   ]
  },
  {
   "cell_type": "code",
   "execution_count": 47,
   "metadata": {},
   "outputs": [
    {
     "name": "stdout",
     "output_type": "stream",
     "text": [
      "due date limit:  23.200000000000003\n",
      "{'initial_position': 4, 'processing_time': '13', 'earliness_penalty': '2', 'tardiness_penalty': '13', 'pi_ai': 6.5, 'pi_bi': 1.0, 'penalty_time': 20}\n",
      "{'initial_position': 2, 'processing_time': '6', 'earliness_penalty': '1', 'tardiness_penalty': '15', 'pi_ai': 6.0, 'pi_bi': 0.4, 'penalty_time': 4}\n",
      "{'initial_position': 7, 'processing_time': '12', 'earliness_penalty': '5', 'tardiness_penalty': '15', 'pi_ai': 2.4, 'pi_bi': 0.8, 'penalty_time': 120}\n",
      "{'initial_position': 3, 'processing_time': '13', 'earliness_penalty': '5', 'tardiness_penalty': '13', 'pi_ai': 2.6, 'pi_bi': 1.0, 'penalty_time': 273}\n",
      "{'initial_position': 6, 'processing_time': '12', 'earliness_penalty': '9', 'tardiness_penalty': '8', 'pi_ai': 1.3333333333333333, 'pi_bi': 1.5, 'penalty_time': 264}\n",
      "{'initial_position': 9, 'processing_time': '12', 'earliness_penalty': '6', 'tardiness_penalty': '8', 'pi_ai': 2.0, 'pi_bi': 1.5, 'penalty_time': 360}\n",
      "{'initial_position': 5, 'processing_time': '12', 'earliness_penalty': '7', 'tardiness_penalty': '6', 'pi_ai': 1.7142857142857142, 'pi_bi': 2.0, 'penalty_time': 342}\n",
      "{'initial_position': 8, 'processing_time': '3', 'earliness_penalty': '6', 'tardiness_penalty': '1', 'pi_ai': 0.5, 'pi_bi': 3.0, 'penalty_time': 60}\n",
      "{'initial_position': 1, 'processing_time': '20', 'earliness_penalty': '4', 'tardiness_penalty': '5', 'pi_ai': 5.0, 'pi_bi': 4.0, 'penalty_time': 400}\n",
      "{'initial_position': 10, 'processing_time': '13', 'earliness_penalty': '10', 'tardiness_penalty': '1', 'pi_ai': 1.3, 'pi_bi': 13.0, 'penalty_time': 93}\n",
      "sum of Penalties:  1936\n",
      "sum of processing time:  116\n",
      "final result:  2052\n"
     ]
    }
   ],
   "source": [
    "constructiveHeuristic(jobs[0:10], 0.2)"
   ]
  },
  {
   "cell_type": "code",
   "execution_count": null,
   "metadata": {},
   "outputs": [],
   "source": []
  }
 ],
 "metadata": {
  "kernelspec": {
   "display_name": "Python 3",
   "language": "python",
   "name": "python3"
  },
  "language_info": {
   "codemirror_mode": {
    "name": "ipython",
    "version": 3
   },
   "file_extension": ".py",
   "mimetype": "text/x-python",
   "name": "python",
   "nbconvert_exporter": "python",
   "pygments_lexer": "ipython3",
   "version": "3.6.5"
  }
 },
 "nbformat": 4,
 "nbformat_minor": 2
}
