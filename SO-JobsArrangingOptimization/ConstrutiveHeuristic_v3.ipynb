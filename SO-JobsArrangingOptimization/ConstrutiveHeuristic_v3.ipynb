{
 "cells": [
  {
   "cell_type": "code",
   "execution_count": 1,
   "metadata": {},
   "outputs": [],
   "source": [
    "## imports\n",
    "import csv"
   ]
  },
  {
   "cell_type": "code",
   "execution_count": 13,
   "metadata": {},
   "outputs": [],
   "source": [
    "def calculateDueDate(jobs, percentage):\n",
    "    sum = 0\n",
    "    for job in jobs:\n",
    "        sum += int(job['processing_time']);\n",
    "    \n",
    "    return sum * percentage;"
   ]
  },
  {
   "cell_type": "code",
   "execution_count": 3,
   "metadata": {},
   "outputs": [],
   "source": [
    "def readJobsFromFile():    \n",
    "    jobs = []\n",
    "\n",
    "    spamReader = csv.reader(open('Jobs.csv', newline=''), delimiter=',', quotechar='|')\n",
    "    index = 1\n",
    "    for row in spamReader:\n",
    "        job = {}\n",
    "        job['initial_position'] = index\n",
    "        job['processing_time'] = row[0]\n",
    "        job['earliness_penalty'] = row[1]\n",
    "        job['tardiness_penalty'] = row[2]\n",
    "        jobs.append(job)\n",
    "        index += 1\n",
    "\n",
    "    return jobs"
   ]
  },
  {
   "cell_type": "code",
   "execution_count": 4,
   "metadata": {},
   "outputs": [],
   "source": [
    "def objectiveFunction(result, dueDateLimit):\n",
    "    completionTime = 0 \n",
    "    resultAfterFO = [] \n",
    "\n",
    "    for job in result:\n",
    "        if(completionTime < dueDateLimit):\n",
    "            job['penalty_time'] = (dueDateLimit - completionTime) * int(job['earliness_penalty'])\n",
    "            resultAfterFO.append(job)\n",
    "        elif(completion_time == due_date_limited):\n",
    "            job['penalty_time'] = (dueDateLimit - completionTime)\n",
    "        elif(completion_time > due_date_limited):\n",
    "            job['penalty_time'] = (completion_time - dueDateLimit) * int(job['tardiness_penalty'])\n",
    "            resultAfterFO.append(job)\n",
    "    return resultAfterFO;"
   ]
  },
  {
   "cell_type": "code",
   "execution_count": 25,
   "metadata": {},
   "outputs": [],
   "source": [
    "def getSumOfPenalties(resultsAfterFO):\n",
    "    sumOfPenalties = 0 \n",
    "\n",
    "    for job in resultsAfterFO:\n",
    "        sumOfPenalties += int(job['penalty_time'])\n",
    "        \n",
    "    return sumOfPenalties;"
   ]
  },
  {
   "cell_type": "code",
   "execution_count": 26,
   "metadata": {},
   "outputs": [],
   "source": [
    "def getProcessingTime(resultsAfterFO):\n",
    "    processingTime = 0 \n",
    "\n",
    "    for job in resultsAfterFO:\n",
    "        processingTime += int(job['processing_time'])\n",
    "        \n",
    "    return processingTime;"
   ]
  },
  {
   "cell_type": "code",
   "execution_count": 27,
   "metadata": {},
   "outputs": [],
   "source": [
    "def calculatePiAiBi(jobs):\n",
    "    for job in jobs:\n",
    "        job['pi_ai'] = int(job['processing_time']) / int(job['earliness_penalty']) \n",
    "        job['pi_bi'] = int(job['processing_time']) / int(job['tardiness_penalty']) \n",
    "    return jobs"
   ]
  },
  {
   "cell_type": "code",
   "execution_count": 28,
   "metadata": {},
   "outputs": [],
   "source": [
    "def calculateJobsBeforeDueDate(sortedByPiAiDecreasing,sortedByPiBiIncreasing, dueDateLimit):\n",
    "    beforeDueDate = []\n",
    "\n",
    "    sumOfProcessingTime = 0\n",
    "    for job in sortedByPiAiDecreasing:\n",
    "        sumOfProcessingTime += int(job['processing_time'])\n",
    "        if sumOfProcessingTime < dueDateLimit:\n",
    "            beforeDueDate.append(job)\n",
    "            sortedByPiBiIncreasing.remove(job)\n",
    "\n",
    "    beforeDueDate = sorted(beforeDueDate, key=lambda k: k['pi_ai'] )\n",
    "    return beforeDueDate;"
   ]
  },
  {
   "cell_type": "code",
   "execution_count": 29,
   "metadata": {},
   "outputs": [],
   "source": [
    "def merge(beforeDueDate, sortedByPiBiIncreasing):\n",
    "    result = beforeDueDate + sortedByPiBiIncreasing\n",
    "    return result"
   ]
  },
  {
   "cell_type": "code",
   "execution_count": 30,
   "metadata": {},
   "outputs": [],
   "source": [
    "def constructiveHeuristic(jobs, percentage):\n",
    "    # passo 02 - calcular o dueDate\n",
    "    dueDateLimit = calculateDueDate(jobs,percentage);\n",
    "    # passo 03 - calcular o PiAi e o PiBi\n",
    "    jobs = calculatePiAiBi(jobs)\n",
    "    # passo 04 - Ordenar\n",
    "    sortedByPiAiDecreasing = sorted(jobs, key=lambda k: k['pi_ai'], reverse=True )\n",
    "    sortedByPiBiIncreasing = sorted(jobs, key=lambda k: k['pi_bi'] )\n",
    "    # passo 05 - calcular o beforeDueDate\n",
    "    beforeDueDate  = calculateJobsBeforeDueDate(sortedByPiAiDecreasing,sortedByPiBiIncreasing, dueDateLimit)\n",
    "    # passo 06 - Merge\n",
    "    result = merge(beforeDueDate, sortedByPiBiIncreasing)\n",
    "    # passo 07 - Calcular a função objetivo\n",
    "    resultsAfterFO = objectiveFunction(result, dueDateLimit)\n",
    "    # passo 08 = mostrar resultados\n",
    "    sumOfPenalties = getSumOfPenalties(resultsAfterFO)\n",
    "    sumOfProcessingTime = getProcessingTime(resultsAfterFO)\n",
    "    print(\"sum of Penalties: \", sumOfPenalties)\n",
    "    print(\"sum of processing time: \", sumOfProcessingTime)\n",
    "    print(\"final result: \", sumOfPenalties + sumOfProcessingTime)\n",
    "    "
   ]
  },
  {
   "cell_type": "code",
   "execution_count": 36,
   "metadata": {},
   "outputs": [
    {
     "name": "stdout",
     "output_type": "stream",
     "text": [
      "----------------- k = 1 --------------------------\n",
      "sum of Penalties:  2548\n",
      "sum of processing time:  116\n",
      "final result:  2664\n",
      "--------------------------------------------------\n",
      "\n",
      "----------------- k = 2 --------------------------\n",
      "sum of Penalties:  3402\n",
      "sum of processing time:  129\n",
      "final result:  3531\n",
      "--------------------------------------------------\n",
      "\n",
      "----------------- k = 3 --------------------------\n",
      "sum of Penalties:  2900\n",
      "sum of processing time:  125\n",
      "final result:  3025\n",
      "--------------------------------------------------\n",
      "\n",
      "----------------- k = 4 --------------------------\n",
      "sum of Penalties:  2035\n",
      "sum of processing time:  102\n",
      "final result:  2137\n",
      "--------------------------------------------------\n",
      "\n",
      "----------------- k = 5 --------------------------\n",
      "sum of Penalties:  2214\n",
      "sum of processing time:  94\n",
      "final result:  2308\n",
      "--------------------------------------------------\n",
      "\n",
      "----------------- k = 6 --------------------------\n",
      "sum of Penalties:  1825\n",
      "sum of processing time:  88\n",
      "final result:  1913\n",
      "--------------------------------------------------\n",
      "\n",
      "----------------- k = 7 --------------------------\n",
      "sum of Penalties:  2921\n",
      "sum of processing time:  103\n",
      "final result:  3024\n",
      "--------------------------------------------------\n",
      "\n",
      "----------------- k = 8 --------------------------\n",
      "sum of Penalties:  1956\n",
      "sum of processing time:  79\n",
      "final result:  2035\n",
      "--------------------------------------------------\n",
      "\n",
      "----------------- k = 9 --------------------------\n",
      "sum of Penalties:  2019\n",
      "sum of processing time:  92\n",
      "final result:  2111\n",
      "--------------------------------------------------\n",
      "\n",
      "----------------- k = 10 --------------------------\n",
      "sum of Penalties:  2791\n",
      "sum of processing time:  127\n",
      "final result:  2918\n",
      "--------------------------------------------------\n",
      "\n"
     ]
    }
   ],
   "source": [
    "jobs = readJobsFromFile()\n",
    "\n",
    "k = 1\n",
    "for i in range(0,100,10):\n",
    "    print(\"----------------- k =\", k, \"--------------------------\" )\n",
    "    constructiveHeuristic(jobs[i:i+10], 0.4)\n",
    "    k +=1\n",
    "    print(\"--------------------------------------------------\\n\")\n",
    "    "
   ]
  }
 ],
 "metadata": {
  "kernelspec": {
   "display_name": "Python 3",
   "language": "python",
   "name": "python3"
  },
  "language_info": {
   "codemirror_mode": {
    "name": "ipython",
    "version": 3
   },
   "file_extension": ".py",
   "mimetype": "text/x-python",
   "name": "python",
   "nbconvert_exporter": "python",
   "pygments_lexer": "ipython3",
   "version": "3.6.5"
  }
 },
 "nbformat": 4,
 "nbformat_minor": 2
}
